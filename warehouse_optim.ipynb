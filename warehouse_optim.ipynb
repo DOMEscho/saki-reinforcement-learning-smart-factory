{
  "nbformat": 4,
  "nbformat_minor": 0,
  "metadata": {
    "kernelspec": {
      "display_name": "Python 3",
      "language": "python",
      "name": "python3"
    },
    "language_info": {
      "codemirror_mode": {
        "name": "ipython",
        "version": 3
      },
      "file_extension": ".py",
      "mimetype": "text/x-python",
      "name": "python",
      "nbconvert_exporter": "python",
      "pygments_lexer": "ipython3",
      "version": "3.8.5"
    },
    "colab": {
      "name": "warehouse_optim.ipynb",
      "provenance": []
    }
  },
  "cells": [
    {
      "cell_type": "code",
      "metadata": {
        "id": "DQwwcsKPd9RY",
        "outputId": "fb73a556-9033-473c-ccf6-1d832a15f751",
        "colab": {
          "base_uri": "https://localhost:8080/"
        }
      },
      "source": [
        "# Google Colab Setup\n",
        "from google.colab import drive\n",
        "drive.mount('/content/gdrive')"
      ],
      "execution_count": 3,
      "outputs": [
        {
          "output_type": "stream",
          "text": [
            "Drive already mounted at /content/gdrive; to attempt to forcibly remount, call drive.mount(\"/content/gdrive\", force_remount=True).\n"
          ],
          "name": "stdout"
        }
      ]
    },
    {
      "cell_type": "code",
      "metadata": {
        "id": "o0oVS_UaeGgu",
        "outputId": "0ec8db76-2c2c-48b8-efe4-19bf60720ab4",
        "colab": {
          "base_uri": "https://localhost:8080/"
        }
      },
      "source": [
        "pip install pymdptoolbox"
      ],
      "execution_count": 4,
      "outputs": [
        {
          "output_type": "stream",
          "text": [
            "Requirement already satisfied: pymdptoolbox in /usr/local/lib/python3.7/dist-packages (4.0b3)\n",
            "Requirement already satisfied: scipy in /usr/local/lib/python3.7/dist-packages (from pymdptoolbox) (1.4.1)\n",
            "Requirement already satisfied: numpy in /usr/local/lib/python3.7/dist-packages (from pymdptoolbox) (1.19.5)\n"
          ],
          "name": "stdout"
        }
      ]
    },
    {
      "cell_type": "code",
      "metadata": {
        "id": "Tz3IhDhSdv4t"
      },
      "source": [
        "# Imports\n",
        "import numpy as np\n",
        "import pandas as pd\n",
        "import os\n",
        "from enum import Enum, auto\n",
        "from collections import namedtuple\n",
        "from itertools import product\n",
        "import mdptoolbox\n",
        "from copy import deepcopy"
      ],
      "execution_count": 5,
      "outputs": []
    },
    {
      "cell_type": "code",
      "metadata": {
        "id": "A9Ts1-R-d74V"
      },
      "source": [
        "os.chdir(\"/content/gdrive/MyDrive/data\" )"
      ],
      "execution_count": 6,
      "outputs": []
    },
    {
      "cell_type": "code",
      "metadata": {
        "id": "fJ53-vXRdv4x"
      },
      "source": [
        "# Paths\n",
        "old_training_file = 'Copy of SAKI Exercise 3 warehousetraining2x2.txt'\n",
        "old_test_file = 'Copy of SAKI Exercise 3 warehouseorder2x2.txt'\n",
        "new_training_file = 'warehousetraining.txt'\n",
        "new_test_file = 'warehouseorder.txt'\n",
        "TRAINING_DATASET_PATH = os.getcwd() + '/' + old_training_file\n",
        "TEST_DATASET_PATH = os.getcwd() + '/' + old_test_file"
      ],
      "execution_count": 7,
      "outputs": []
    },
    {
      "cell_type": "code",
      "metadata": {
        "id": "URUpKs2jdv4y"
      },
      "source": [
        "# Constants\n",
        "WAREHOUSE_SIZE = 4\n",
        "WAREHOUSE_LAYOUT = (2,2)"
      ],
      "execution_count": 8,
      "outputs": []
    },
    {
      "cell_type": "code",
      "metadata": {
        "id": "K0uTgvsgdv4z"
      },
      "source": [
        "Action = namedtuple('Action', ['operation_type','item_type'])"
      ],
      "execution_count": 9,
      "outputs": []
    },
    {
      "cell_type": "code",
      "metadata": {
        "id": "Ogjg9FR4dv4z"
      },
      "source": [
        "class OperationType(Enum):\n",
        "    STORE = auto()\n",
        "    RESTORE = auto()\n",
        "    \n",
        "    @staticmethod\n",
        "    def from_str(value):\n",
        "        if value.upper() == 'STORE':\n",
        "            return OperationType.STORE\n",
        "        elif value.upper() == 'RESTORE':\n",
        "            return OperationType.RESTORE\n",
        "        else:\n",
        "            raise NotImplementedError"
      ],
      "execution_count": 10,
      "outputs": []
    },
    {
      "cell_type": "code",
      "metadata": {
        "id": "NacF7ZHudv4z"
      },
      "source": [
        "class ItemType(Enum):\n",
        "    WHITE = auto()\n",
        "    BLUE = auto()\n",
        "    RED = auto()\n",
        "    \n",
        "    @staticmethod\n",
        "    def from_str(value):\n",
        "        if value.upper() == 'WHITE':\n",
        "            return ItemType.WHITE\n",
        "        elif value.upper() == 'BLUE':\n",
        "            return ItemType.BLUE\n",
        "        elif value.upper() == 'RED':\n",
        "            return ItemType.RED\n",
        "        else:\n",
        "            raise NotImplementedError\n",
        "    \n",
        "    @staticmethod\n",
        "    def list():\n",
        "        return list(ItemType)"
      ],
      "execution_count": 11,
      "outputs": []
    },
    {
      "cell_type": "code",
      "metadata": {
        "id": "DxMmAnTndv40"
      },
      "source": [
        ""
      ],
      "execution_count": 11,
      "outputs": []
    },
    {
      "cell_type": "code",
      "metadata": {
        "id": "TBfmDxoUdv41"
      },
      "source": [
        "class WarehouseDataSet:\n",
        "    \n",
        "    def __init__(self, path=TRAINING_DATASET_PATH):\n",
        "        self.path = path\n",
        "        self.dataset = pd.read_csv(path, sep='\\t', names=['OperationType', 'ItemType'])\n",
        "        self.rel_freq = self._create_rel_freq_dict(self.dataset)\n",
        "        self.size = self.dataset.shape[0]\n",
        "    \n",
        "    def __iter__(self):\n",
        "        self.index = 0\n",
        "        return self\n",
        "\n",
        "    def __next__(self):\n",
        "        if self.index < self.dataset.shape[0]:\n",
        "          entry = self.dataset.iloc[self.index].tolist()\n",
        "          self.index += 1\n",
        "          operation_type = OperationType.from_str(entry[0])\n",
        "          item_type = ItemType.from_str(entry[1])\n",
        "          return Action(operation_type, item_type)\n",
        "        else:\n",
        "          raise StopIteration\n",
        "\n",
        "\n",
        "    def _create_rel_freq_dict(self, dataset: pd.DataFrame):\n",
        "        rel_freq_series = (dataset.value_counts() / dataset.shape[0])\n",
        "        tmp_dict = rel_freq_series.to_dict()\n",
        "        rel_freq_dict = {}\n",
        "        for (operation, item), rel_freq in tmp_dict.items():\n",
        "            operation_type = OperationType.from_str(operation)\n",
        "            item_type = ItemType.from_str(item) \n",
        "            a = Action(operation_type, item_type)\n",
        "            rel_freq_dict[a] = rel_freq\n",
        "            #rel_freq_dict[(operation_type, item_type)] = rel_freq\n",
        "        return rel_freq_dict\n",
        "\n",
        "    def get_relative_frequency_for(self, action: (OperationType, ItemType)):\n",
        "        return self.rel_freq.get(action, 0)\n",
        "\n",
        "    def get_relative_frequencies(self):\n",
        "        return self.rel_freq.copy()"
      ],
      "execution_count": 12,
      "outputs": []
    },
    {
      "cell_type": "code",
      "metadata": {
        "id": "qpajlswKdv43"
      },
      "source": [
        ""
      ],
      "execution_count": 13,
      "outputs": []
    },
    {
      "cell_type": "code",
      "metadata": {
        "id": "AXvK1RYGdv45"
      },
      "source": [
        "class Warehouse:\n",
        "     \n",
        "    @staticmethod\n",
        "    def is_applicable_action(position, s, s_prime):\n",
        "        action = s[1]\n",
        "        cell_content_s = s[0][position]\n",
        "        cell_content_s_prime = s_prime[0][position]\n",
        "        is_applicable = False\n",
        "        if action.operation_type == OperationType.STORE:\n",
        "            is_applicable = cell_content_s is None and cell_content_s_prime == action.item_type\n",
        "        elif action.operation_type == OperationType.RESTORE:\n",
        "            is_applicable = cell_content_s == action.item_type and cell_content_s_prime is None\n",
        "        else:\n",
        "            raise ValueError()\n",
        "        return is_applicable\n",
        "    \n",
        "\n",
        "    @staticmethod\n",
        "    def apply_at_to(action, position, warehouse_state):\n",
        "        warehouse_state_prime = deepcopy(warehouse_state)\n",
        "        if action.operation_type == OperationType.STORE and warehouse_state[position] is None:\n",
        "            warehouse_state_prime[position] = action.item_type\n",
        "        elif action.operation_type == OperationType.RESTORE and action.item_type == warehouse_state[position] :\n",
        "            warehouse_state_prime[position] = None\n",
        "        else:\n",
        "          print(warehouse_state, action)\n",
        "          raise ValueError\n",
        "        return warehouse_state_prime\n",
        "\n",
        "\n",
        "    @staticmethod\n",
        "    def calculate_distance(position, layout):\n",
        "        # Since the robot can not go diagonally\n",
        "        # it makes sense to use the manhattan distance + 1 for the outside position\n",
        "        manhattan_distance = sum(np.unravel_index(position, layout))\n",
        "        return 1 + manhattan_distance\n",
        "\n"
      ],
      "execution_count": 14,
      "outputs": []
    },
    {
      "cell_type": "code",
      "metadata": {
        "id": "254Ne47gdv45"
      },
      "source": [
        "def create_transition_probability_matrix(dataset, state_space):\n",
        "    number_of_states = len(state_space)\n",
        "    tpm = np.zeros((WAREHOUSE_SIZE, number_of_states, number_of_states), dtype=np.float16)\n",
        "    for position in range(WAREHOUSE_SIZE): \n",
        "        for x, s in enumerate(state_space):\n",
        "            for y, s_prime in enumerate(state_space):\n",
        "                if Warehouse.is_applicable_action(position, s, s_prime):\n",
        "                    tpm[position, x, y] = dataset.get_relative_frequency_for(s[1])\n",
        "            # handle dead states\n",
        "            if tpm[position, x].sum() == 0:\n",
        "                tpm[position, x, x] = 1.0\n",
        "        tpm[position] = tpm[position] / tpm[position].sum(axis=1)[:, None]    \n",
        "    return tpm"
      ],
      "execution_count": 15,
      "outputs": []
    },
    {
      "cell_type": "code",
      "metadata": {
        "id": "ioJ2iievdv46"
      },
      "source": [
        "class ActionSpace:\n",
        "\n",
        "    def __init__(self, operation_enum, item_type_enum):\n",
        "        self.operation_enum = operation_enum\n",
        "        self.item_type_enum = item_type_enum\n",
        "    \n",
        "    def get(self):\n",
        "        action_space = []\n",
        "        for o_type, i_type in product(list(self.operation_enum), list(self.item_type_enum)):\n",
        "            action_space.append(Action(o_type, i_type))\n",
        "        return action_space"
      ],
      "execution_count": 16,
      "outputs": []
    },
    {
      "cell_type": "code",
      "metadata": {
        "id": "lLOkVTw-dv46"
      },
      "source": [
        "class StateSpace:\n",
        "    \n",
        "    def __init__(self, operation_enum, item_type_enum, number_of_cells, action_space):\n",
        "        self.number_of_cells = number_of_cells\n",
        "        self.operation_enum = operation_enum\n",
        "        self.item_type_enum = item_type_enum\n",
        "        self.possible_cell_states = [None] + list(item_type_enum)\n",
        "        self.warehouse_states = product(self.possible_cell_states, repeat=self.number_of_cells)\n",
        "        self.action_space = action_space\n",
        "        \n",
        "    def get(self):\n",
        "        return list(product(self.warehouse_states, self.action_space))\n",
        "        "
      ],
      "execution_count": 17,
      "outputs": []
    },
    {
      "cell_type": "code",
      "metadata": {
        "id": "d4x42fj9dv46"
      },
      "source": [
        "def create_state_space():\n",
        "    from itertools import product\n",
        "    states_space = []\n",
        "    possible_cell_states = [None, ItemType.RED, ItemType.WHITE, ItemType.BLUE]\n",
        "    warehouse_state_space = product(possible_cell_states, repeat=4)\n",
        "    possible_actions = []\n",
        "    t = product(list(OperationType), list(ItemType))\n",
        "    for operation_type, item_type in t:\n",
        "        possible_actions.append(Action(operation_type, item_type))\n",
        "    return list(product(warehouse_state_space, possible_actions))"
      ],
      "execution_count": 18,
      "outputs": []
    },
    {
      "cell_type": "code",
      "metadata": {
        "id": "qpT8Jy4Bdv46"
      },
      "source": [
        ""
      ],
      "execution_count": 18,
      "outputs": []
    },
    {
      "cell_type": "code",
      "metadata": {
        "id": "hCQqkW5Ndv48"
      },
      "source": [
        "class RewardStructure:\n",
        "    \n",
        "    def __init__(self, reward_for_dead_ends, position_rewards, weights):\n",
        "        self.reward_for_dead_ends = reward_for_dead_ends\n",
        "        self.position_reward_mapping = {}\n",
        "        for pos, reward in position_rewards:\n",
        "            self.position_reward_mapping[pos] = reward\n",
        "        self.weights = weights\n",
        "\n",
        "    def calculate_reward(self, position, s):\n",
        "        cell_content = s[0][position]\n",
        "        action = s[1]\n",
        "        reward = self.reward_for_dead_ends\n",
        "        weight = self.get_weight_factor_for_action(action)\n",
        "        if action.operation_type == OperationType.STORE:\n",
        "            if cell_content is None:\n",
        "                reward = self.position_reward_mapping.get(position) * weight\n",
        "        elif action.operation_type == OperationType.RESTORE:\n",
        "            if cell_content == action.item_type:\n",
        "                reward = self.position_reward_mapping.get(position) * weight\n",
        "        else:\n",
        "            raise ValueError\n",
        "        return reward\n",
        "        \n",
        "    def create_reward_matrix(self, dataset, state_space):\n",
        "        number_of_states = len(state_space)\n",
        "        rm = np.zeros((WAREHOUSE_SIZE, number_of_states), dtype=np.float16)\n",
        "        for position in range(WAREHOUSE_SIZE):\n",
        "            for x, s in enumerate(state_space):\n",
        "                rm[position, x] = self.calculate_reward(position, s) \n",
        "        return rm.T\n",
        "            \n",
        "    def get_weight_factor_for_action(self, action):\n",
        "        return self.weights.get(action, 1)\n"
      ],
      "execution_count": 19,
      "outputs": []
    },
    {
      "cell_type": "code",
      "metadata": {
        "id": "WaruwgMKdv48"
      },
      "source": [
        ""
      ],
      "execution_count": 19,
      "outputs": []
    },
    {
      "cell_type": "markdown",
      "metadata": {
        "id": "bW-c1gnndv48"
      },
      "source": [
        "### Creating the transition probabilty matrix"
      ]
    },
    {
      "cell_type": "code",
      "metadata": {
        "id": "xSbWzxgIdv49"
      },
      "source": [
        "action_space = ActionSpace(OperationType, ItemType).get()"
      ],
      "execution_count": 20,
      "outputs": []
    },
    {
      "cell_type": "code",
      "metadata": {
        "id": "6YPgLpS2dv49"
      },
      "source": [
        "state_space = StateSpace(OperationType, ItemType, WAREHOUSE_SIZE, action_space).get()"
      ],
      "execution_count": 21,
      "outputs": []
    },
    {
      "cell_type": "code",
      "metadata": {
        "id": "V_VKzccU1Jrt"
      },
      "source": [
        ""
      ],
      "execution_count": 21,
      "outputs": []
    },
    {
      "cell_type": "code",
      "metadata": {
        "id": "Rm9vqDsf1JuZ"
      },
      "source": [
        "train_dataset = WarehouseDataSet(TRAINING_DATASET_PATH)\n",
        "test_dataset = WarehouseDataSet(TEST_DATASET_PATH)"
      ],
      "execution_count": 21,
      "outputs": []
    },
    {
      "cell_type": "code",
      "metadata": {
        "id": "-gKvIQdnNDs6"
      },
      "source": [
        ""
      ],
      "execution_count": null,
      "outputs": []
    },
    {
      "cell_type": "code",
      "metadata": {
        "id": "PCg6RJcFdv49"
      },
      "source": [
        "transition_probability_matrix = create_transition_probability_matrix(train_dataset, state_space)"
      ],
      "execution_count": 22,
      "outputs": []
    },
    {
      "cell_type": "code",
      "metadata": {
        "id": "VL_4Ie4Fdv4-"
      },
      "source": [
        ""
      ],
      "execution_count": 22,
      "outputs": []
    },
    {
      "cell_type": "code",
      "metadata": {
        "id": "zHy6qDTWdv4-"
      },
      "source": [
        "position_rewards = []\n",
        "for pos in range(WAREHOUSE_SIZE):\n",
        "    reward = - Warehouse.calculate_distance(pos, WAREHOUSE_LAYOUT)\n",
        "    position_rewards.append((pos, reward))"
      ],
      "execution_count": 23,
      "outputs": []
    },
    {
      "cell_type": "code",
      "metadata": {
        "id": "Ohxcts0Mdv4-"
      },
      "source": [
        "weights = {}\n",
        "for action, rel_freq in train_dataset.get_relative_frequencies().items(): \n",
        "    weights[action] = 1 + rel_freq"
      ],
      "execution_count": 24,
      "outputs": []
    },
    {
      "cell_type": "code",
      "metadata": {
        "id": "grQtuVawdv4-"
      },
      "source": [
        ""
      ],
      "execution_count": 24,
      "outputs": []
    },
    {
      "cell_type": "code",
      "metadata": {
        "id": "-sfyC4O7dv4_"
      },
      "source": [
        "reward_structure = RewardStructure(-10, position_rewards, weights)"
      ],
      "execution_count": 39,
      "outputs": []
    },
    {
      "cell_type": "code",
      "metadata": {
        "id": "L79KOCyZdv4_"
      },
      "source": [
        "reward_matrix = rw.create_reward_matrix(train_dataset, state_space)"
      ],
      "execution_count": 26,
      "outputs": []
    },
    {
      "cell_type": "code",
      "metadata": {
        "id": "j-qf5s5Adv4_"
      },
      "source": [
        ""
      ],
      "execution_count": 26,
      "outputs": []
    },
    {
      "cell_type": "markdown",
      "metadata": {
        "id": "fFsxxSgXdv4_"
      },
      "source": [
        "### MDP"
      ]
    },
    {
      "cell_type": "code",
      "metadata": {
        "id": "pJ5aA5gLlzuN"
      },
      "source": [
        ""
      ],
      "execution_count": 26,
      "outputs": []
    },
    {
      "cell_type": "code",
      "metadata": {
        "id": "1I75yWZedv5A",
        "outputId": "317e9398-b6b4-4e04-9908-5cb529644ce7",
        "colab": {
          "base_uri": "https://localhost:8080/"
        }
      },
      "source": [
        "DISCOUNT_FACTOR = 0.9\n",
        "ITERATIONS = 1000\n",
        "policy_iteration_result = mdptoolbox.mdp.PolicyIteration(\n",
        "    transition_probability_matrix,\n",
        "    reward_matrix,\n",
        "    DISCOUNT_FACTOR, \n",
        "    max_iter=ITERATIONS\n",
        ")\n",
        "value_iteration_result = mdptoolbox.mdp.ValueIteration(\n",
        "    transition_probability_matrix,\n",
        "    reward_matrix, \n",
        "    DISCOUNT_FACTOR, \n",
        "    max_iter=ITERATIONS\n",
        ")\n",
        "\n",
        "policy_iteration_result.run()\n",
        "value_iteration_result.run()\n",
        "\n",
        "print('Policy-Iteration Algorithm:')\n",
        "print(policy_iteration_result.policy)\n",
        "print(policy_iteration_result.V)\n",
        "print(policy_iteration_result.iter)\n",
        "\n",
        "print('Value-Iteration Algorithm:')\n",
        "print(value_iteration_result.policy)\n",
        "print(value_iteration_result.V)\n",
        "print(value_iteration_result.iter)"
      ],
      "execution_count": 27,
      "outputs": [
        {
          "output_type": "stream",
          "text": [
            "Policy-Iteration Algorithm:\n",
            "(0, 0, 0, 0, 0, 0, 0, 0, 0, 3, 0, 0, 0, 0, 0, 0, 3, 0, 0, 0, 0, 0, 0, 3, 0, 0, 0, 2, 0, 0, 0, 0, 0, 2, 0, 0, 0, 0, 0, 2, 3, 0, 0, 0, 0, 2, 0, 3, 0, 0, 0, 0, 2, 0, 0, 0, 0, 3, 2, 0, 0, 0, 0, 0, 2, 0, 0, 0, 0, 0, 2, 3, 0, 0, 0, 0, 0, 2, 0, 0, 0, 3, 0, 2, 0, 0, 0, 0, 3, 2, 0, 0, 0, 0, 0, 2, 0, 0, 0, 1, 0, 0, 0, 0, 0, 1, 0, 0, 0, 0, 0, 1, 3, 0, 0, 0, 0, 1, 0, 3, 0, 0, 0, 1, 0, 0, 0, 0, 0, 1, 0, 0, 0, 0, 0, 1, 3, 0, 0, 0, 0, 1, 0, 3, 0, 0, 0, 1, 2, 0, 0, 0, 0, 1, 2, 0, 0, 0, 0, 1, 2, 0, 0, 0, 0, 1, 2, 3, 0, 0, 0, 1, 0, 2, 0, 0, 0, 1, 0, 2, 0, 0, 0, 1, 3, 2, 0, 0, 0, 1, 0, 2, 0, 0, 0, 0, 1, 0, 0, 0, 0, 3, 1, 0, 0, 0, 0, 0, 1, 0, 0, 0, 0, 0, 1, 3, 0, 0, 0, 2, 1, 0, 0, 0, 0, 2, 1, 0, 0, 0, 0, 2, 1, 0, 0, 0, 0, 2, 1, 3, 0, 0, 0, 0, 2, 0, 0, 0, 0, 3, 2, 0, 0, 0, 0, 0, 2, 0, 0, 0, 0, 0, 2, 3, 0, 0, 0, 0, 1, 2, 0, 0, 0, 3, 1, 2, 0, 0, 0, 0, 1, 2, 0, 0, 0, 0, 1, 2, 0, 0, 0, 0, 0, 1, 0, 0, 0, 3, 0, 1, 0, 0, 0, 0, 3, 1, 0, 0, 0, 0, 0, 1, 0, 0, 0, 2, 0, 1, 0, 0, 0, 2, 0, 1, 0, 0, 0, 2, 3, 1, 0, 0, 0, 2, 0, 1, 0, 0, 0, 0, 2, 1, 0, 0, 0, 3, 2, 1, 0, 0, 0, 0, 2, 1, 0, 0, 0, 0, 2, 1, 0, 0, 0, 0, 0, 2, 0, 0, 0, 3, 0, 2, 0, 0, 0, 0, 3, 2, 0, 0, 0, 0, 0, 2, 1, 1, 1, 0, 0, 0, 1, 1, 1, 0, 0, 0, 1, 1, 1, 0, 3, 0, 1, 1, 1, 0, 0, 3, 1, 1, 1, 0, 0, 0, 1, 1, 1, 0, 0, 0, 1, 1, 1, 0, 3, 0, 1, 1, 1, 0, 0, 3, 1, 1, 1, 0, 2, 0, 1, 1, 1, 0, 2, 0, 1, 1, 1, 0, 2, 0, 1, 1, 1, 0, 2, 3, 1, 1, 1, 0, 0, 2, 1, 1, 1, 0, 0, 2, 1, 1, 1, 0, 3, 2, 1, 1, 1, 0, 0, 2, 2, 2, 2, 0, 0, 0, 2, 2, 2, 0, 0, 0, 2, 2, 2, 0, 3, 0, 2, 2, 2, 0, 0, 3, 3, 3, 3, 0, 0, 0, 0, 0, 0, 0, 0, 0, 0, 0, 0, 0, 3, 0, 0, 0, 0, 0, 0, 3, 3, 3, 3, 0, 2, 0, 0, 0, 0, 0, 2, 0, 0, 0, 0, 0, 2, 0, 0, 0, 0, 0, 2, 3, 3, 3, 3, 0, 0, 2, 0, 0, 0, 0, 0, 2, 0, 0, 0, 0, 3, 2, 0, 0, 0, 0, 0, 2, 2, 2, 2, 0, 1, 0, 2, 2, 2, 0, 1, 0, 2, 2, 2, 0, 1, 0, 2, 2, 2, 0, 1, 3, 3, 3, 3, 0, 1, 0, 0, 0, 0, 0, 1, 0, 0, 0, 0, 0, 1, 0, 0, 0, 0, 0, 1, 3, 3, 3, 3, 0, 2, 0, 0, 0, 0, 0, 2, 0, 0, 0, 0, 0, 2, 0, 0, 0, 0, 0, 2, 3, 3, 3, 3, 0, 1, 2, 0, 0, 0, 0, 1, 2, 0, 0, 0, 0, 1, 2, 0, 0, 0, 0, 1, 2, 2, 2, 2, 0, 0, 1, 2, 2, 2, 0, 0, 1, 2, 2, 2, 0, 3, 1, 2, 2, 2, 0, 0, 1, 3, 3, 3, 0, 0, 1, 0, 0, 0, 0, 0, 1, 0, 0, 0, 0, 3, 1, 0, 0, 0, 0, 0, 1, 3, 3, 3, 0, 2, 1, 0, 0, 0, 0, 2, 1, 0, 0, 0, 0, 2, 1, 0, 0, 0, 0, 2, 1, 3, 3, 3, 0, 0, 2, 0, 0, 0, 0, 0, 2, 0, 0, 0, 0, 3, 2, 0, 0, 0, 0, 0, 2, 1, 1, 1, 0, 0, 0, 1, 1, 1, 3, 0, 0, 1, 1, 1, 0, 0, 0, 1, 1, 1, 0, 0, 3, 1, 1, 1, 2, 0, 0, 1, 1, 1, 2, 0, 0, 1, 1, 1, 2, 0, 0, 1, 1, 1, 2, 0, 3, 1, 1, 1, 0, 0, 0, 1, 1, 1, 3, 0, 0, 1, 1, 1, 0, 0, 0, 1, 1, 1, 0, 0, 3, 1, 1, 1, 0, 0, 2, 1, 1, 1, 3, 0, 2, 1, 1, 1, 0, 0, 2, 1, 1, 1, 0, 0, 2, 2, 2, 2, 1, 0, 0, 2, 2, 2, 1, 0, 0, 2, 2, 2, 1, 0, 0, 2, 2, 2, 1, 0, 3, 3, 3, 3, 1, 0, 0, 0, 0, 0, 1, 0, 0, 0, 0, 0, 1, 0, 0, 0, 0, 0, 1, 0, 3, 3, 3, 3, 1, 0, 0, 0, 0, 0, 1, 0, 0, 0, 0, 0, 1, 0, 0, 0, 0, 0, 1, 0, 3, 3, 3, 3, 1, 0, 2, 0, 0, 0, 1, 0, 2, 0, 0, 0, 1, 0, 2, 0, 0, 0, 1, 0, 2, 2, 2, 2, 0, 0, 0, 2, 2, 2, 3, 0, 0, 2, 2, 2, 0, 0, 0, 2, 2, 2, 0, 0, 3, 3, 3, 3, 2, 0, 0, 0, 0, 0, 2, 0, 0, 0, 0, 0, 2, 0, 0, 0, 0, 0, 2, 0, 3, 3, 3, 3, 0, 0, 0, 0, 0, 0, 3, 0, 0, 0, 0, 0, 0, 0, 0, 0, 0, 0, 0, 0, 3, 3, 3, 3, 0, 0, 2, 0, 0, 0, 3, 0, 2, 0, 0, 0, 0, 0, 2, 0, 0, 0, 0, 0, 2, 2, 2, 2, 0, 0, 1, 2, 2, 2, 3, 0, 1, 2, 2, 2, 0, 0, 1, 2, 2, 2, 0, 0, 1, 3, 3, 3, 2, 0, 1, 0, 0, 0, 2, 0, 1, 0, 0, 0, 2, 0, 1, 0, 0, 0, 2, 0, 1, 3, 3, 3, 0, 0, 1, 0, 0, 0, 3, 0, 1, 0, 0, 0, 0, 0, 1, 0, 0, 0, 0, 0, 1, 3, 3, 3, 0, 0, 2, 0, 0, 0, 3, 0, 2, 0, 0, 0, 0, 0, 2, 0, 0, 0, 0, 0, 2, 1, 1, 1, 0, 0, 0, 1, 1, 1, 3, 0, 0, 1, 1, 1, 0, 3, 0, 1, 1, 1, 0, 0, 0, 1, 1, 1, 2, 0, 0, 1, 1, 1, 2, 0, 0, 1, 1, 1, 2, 3, 0, 1, 1, 1, 2, 0, 0, 1, 1, 1, 0, 2, 0, 1, 1, 1, 3, 2, 0, 1, 1, 1, 0, 2, 0, 1, 1, 1, 0, 2, 0, 1, 1, 1, 0, 0, 0, 1, 1, 1, 3, 0, 0, 1, 1, 1, 0, 3, 0, 1, 1, 1, 0, 0, 0, 2, 2, 2, 1, 0, 0, 2, 2, 2, 1, 0, 0, 2, 2, 2, 1, 3, 0, 2, 2, 2, 1, 0, 0, 3, 3, 3, 1, 0, 0, 0, 0, 0, 1, 0, 0, 0, 0, 0, 1, 3, 0, 0, 0, 0, 1, 0, 0, 3, 3, 3, 1, 2, 0, 0, 0, 0, 1, 2, 0, 0, 0, 0, 1, 2, 0, 0, 0, 0, 1, 2, 0, 3, 3, 3, 1, 0, 0, 0, 0, 0, 1, 0, 0, 0, 0, 0, 1, 3, 0, 0, 0, 0, 1, 0, 0, 2, 2, 2, 0, 1, 0, 2, 2, 2, 3, 1, 0, 2, 2, 2, 0, 1, 0, 2, 2, 2, 0, 1, 0, 3, 3, 3, 2, 1, 0, 0, 0, 0, 2, 1, 0, 0, 0, 0, 2, 1, 0, 0, 0, 0, 2, 1, 0, 3, 3, 3, 0, 2, 0, 0, 0, 0, 3, 2, 0, 0, 0, 0, 0, 2, 0, 0, 0, 0, 0, 2, 0, 3, 3, 3, 0, 1, 0, 0, 0, 0, 3, 1, 0, 0, 0, 0, 0, 1, 0, 0, 0, 0, 0, 1, 0, 2, 2, 2, 0, 0, 0, 2, 2, 2, 3, 0, 0, 2, 2, 2, 0, 3, 0, 2, 2, 2, 0, 0, 0, 3, 3, 3, 2, 0, 0, 0, 0, 0, 2, 0, 0, 0, 0, 0, 2, 3, 0, 0, 0, 0, 2, 0, 0, 3, 3, 3, 0, 2, 0, 0, 0, 0, 3, 2, 0, 0, 0, 0, 0, 2, 0, 0, 0, 0, 0, 2, 0, 3, 3, 3, 0, 0, 0, 0, 0, 0, 3, 0, 0, 0, 0, 0, 0, 3, 0, 0, 0, 0, 0, 0, 0)\n",
            "(-78.10703948866981, -78.09988471040448, -78.22392330797332, -100.00000000000003, -100.00000000000003, -100.00000000000003, -78.10703948866981, -78.09988471040448, -78.22392330797332, -77.95532977053867, -100.00000000000003, -100.00000000000003, -78.10703948866981, -78.09988471040448, -78.22392330797332, -100.00000000000003, -77.88901484437062, -100.00000000000003, -78.10703948866981, -78.09988471040448, -78.22392330797332, -100.00000000000003, -100.00000000000003, -78.2815929693706, -78.10703948866981, -78.09988471040448, -78.22392330797332, -76.69919601299524, -100.00000000000003, -100.00000000000003, -78.10703948866981, -78.09988471040448, -78.22392330797332, -76.69919601299534, -100.00000000000003, -100.00000000000003, -78.10703948866981, -78.09988471040448, -78.22392330797332, -76.69919601299534, -77.88901484437065, -100.00000000000003, -78.10703948866981, -78.09988471040448, -78.22392330797332, -76.69919601299534, -100.00000000000003, -78.28159296937065, -78.10703948866981, -78.09988471040448, -78.22392330797332, -100.00000000000003, -76.6368833351856, -100.00000000000003, -78.10703948866981, -78.09988471040448, -78.22392330797332, -77.95532977053875, -76.63688333518573, -100.00000000000003, -78.10703948866981, -78.09988471040448, -78.22392330797332, -100.00000000000003, -76.6368833351857, -100.00000000000003, -78.10703948866981, -78.09988471040448, -78.22392330797332, -100.00000000000003, -76.6368833351857, -78.28159296937072, -78.10703948866981, -78.09988471040448, -78.22392330797332, -100.00000000000003, -100.00000000000003, -76.89664896018556, -78.10703948866981, -78.09988471040448, -78.22392330797332, -77.9553297705387, -100.00000000000003, -76.89664896018569, -78.10703948866981, -78.09988471040448, -78.22392330797332, -100.00000000000003, -77.8890148443706, -76.89664896018569, -78.10703948866981, -78.09988471040448, -78.22392330797332, -100.00000000000003, -100.00000000000003, -76.89664896018569, -78.10703948866981, -78.09988471040448, -78.22392330797332, -76.69919601299533, -100.00000000000003, -100.00000000000003, -78.10703948866981, -78.09988471040448, -78.22392330797332, -76.69919601299529, -100.00000000000003, -100.00000000000003, -78.10703948866981, -78.09988471040448, -78.22392330797332, -76.69919601299532, -77.88901484437072, -100.00000000000003, -78.10703948866981, -78.09988471040448, -78.22392330797332, -76.69919601299536, -100.00000000000003, -78.28159296937066, -78.10703948866981, -78.09988471040448, -78.22392330797332, -76.69919601299534, -100.00000000000003, -100.00000000000003, -78.10703948866981, -78.09988471040448, -78.22392330797332, -76.69919601299533, -100.00000000000003, -100.00000000000003, -78.10703948866981, -78.09988471040448, -78.22392330797332, -76.69919601299533, -77.8890148443708, -100.00000000000003, -78.10703948866981, -78.09988471040448, -78.22392330797332, -76.69919601299533, -100.00000000000003, -78.2815929693708, -78.10703948866981, -78.09988471040448, -78.22392330797332, -76.69919601299517, -76.63688333518563, -100.00000000000003, -78.10703948866981, -78.09988471040448, -78.22392330797332, -76.69919601299532, -76.63688333518576, -100.00000000000003, -78.10703948866981, -78.09988471040448, -78.22392330797332, -76.69919601299532, -76.63688333518576, -100.00000000000003, -78.10703948866981, -78.09988471040448, -78.22392330797332, -76.69919601299532, -76.63688333518576, -78.28159296937064, -78.10703948866981, -78.09988471040448, -78.22392330797332, -76.69919601299537, -100.00000000000003, -76.89664896018574, -78.10703948866981, -78.09988471040448, -78.22392330797332, -76.69919601299527, -100.00000000000003, -76.89664896018563, -78.10703948866981, -78.09988471040448, -78.22392330797332, -76.69919601299527, -77.88901484437062, -76.89664896018563, -78.10703948866981, -78.09988471040448, -78.22392330797332, -76.69919601299527, -100.00000000000003, -76.89664896018563, -78.10703948866981, -78.09988471040448, -78.22392330797332, -100.00000000000003, -76.63688333518559, -100.00000000000003, -78.10703948866981, -78.09988471040448, -78.22392330797332, -77.95532977053867, -76.63688333518557, -100.00000000000003, -78.10703948866981, -78.09988471040448, -78.22392330797332, -100.00000000000003, -76.63688333518567, -100.00000000000003, -78.10703948866981, -78.09988471040448, -78.22392330797332, -100.00000000000003, -76.63688333518564, -78.28159296937068, -78.10703948866981, -78.09988471040448, -78.22392330797332, -76.69919601299529, -76.63688333518549, -100.00000000000003, -78.10703948866981, -78.09988471040448, -78.22392330797332, -76.69919601299532, -76.6368833351857, -100.00000000000003, -78.10703948866981, -78.09988471040448, -78.22392330797332, -76.69919601299532, -76.6368833351857, -100.00000000000003, -78.10703948866981, -78.09988471040448, -78.22392330797332, -76.69919601299532, -76.6368833351857, -78.28159296937073, -78.10703948866981, -78.09988471040448, -78.22392330797332, -100.00000000000003, -76.63688333518569, -100.00000000000003, -78.10703948866981, -78.09988471040448, -78.22392330797332, -77.95532977053861, -76.63688333518562, -100.00000000000003, -78.10703948866981, -78.09988471040448, -78.22392330797332, -100.00000000000003, -76.6368833351856, -100.00000000000003, -78.10703948866981, -78.09988471040448, -78.22392330797332, -100.00000000000003, -76.6368833351856, -78.28159296937056, -78.10703948866981, -78.09988471040448, -78.22392330797332, -100.00000000000003, -76.6368833351857, -76.8966489601858, -78.10703948866981, -78.09988471040448, -78.22392330797332, -77.95532977053874, -76.63688333518566, -76.89664896018566, -78.10703948866981, -78.09988471040448, -78.22392330797332, -100.00000000000003, -76.63688333518566, -76.89664896018566, -78.10703948866981, -78.09988471040448, -78.22392330797332, -100.00000000000003, -76.63688333518566, -76.89664896018566, -78.10703948866981, -78.09988471040448, -78.22392330797332, -100.00000000000003, -100.00000000000003, -76.89664896018564, -78.10703948866981, -78.09988471040448, -78.22392330797332, -77.95532977053875, -100.00000000000003, -76.89664896018562, -78.10703948866981, -78.09988471040448, -78.22392330797332, -100.00000000000003, -77.88901484437055, -76.89664896018579, -78.10703948866981, -78.09988471040448, -78.22392330797332, -100.00000000000003, -100.00000000000003, -76.89664896018567, -78.10703948866981, -78.09988471040448, -78.22392330797332, -76.69919601299547, -100.00000000000003, -76.89664896018566, -78.10703948866981, -78.09988471040448, -78.22392330797332, -76.69919601299533, -100.00000000000003, -76.8966489601857, -78.10703948866981, -78.09988471040448, -78.22392330797332, -76.69919601299533, -77.88901484437059, -76.8966489601857, -78.10703948866981, -78.09988471040448, -78.22392330797332, -76.69919601299533, -100.00000000000003, -76.8966489601857, -78.10703948866981, -78.09988471040448, -78.22392330797332, -100.00000000000003, -76.63688333518562, -76.8966489601856, -78.10703948866981, -78.09988471040448, -78.22392330797332, -77.95532977053865, -76.63688333518574, -76.89664896018574, -78.10703948866981, -78.09988471040448, -78.22392330797332, -100.00000000000003, -76.63688333518574, -76.89664896018574, -78.10703948866981, -78.09988471040448, -78.22392330797332, -100.00000000000003, -76.63688333518574, -76.89664896018574, -78.10703948866981, -78.09988471040448, -78.22392330797332, -100.00000000000003, -100.00000000000003, -76.89664896018564, -78.10703948866981, -78.09988471040448, -78.22392330797332, -77.95532977053877, -100.00000000000003, -76.89664896018573, -78.10703948866981, -78.09988471040448, -78.22392330797332, -100.00000000000003, -77.88901484437078, -76.89664896018573, -78.10703948866981, -78.09988471040448, -78.22392330797332, -100.00000000000003, -100.00000000000003, -76.89664896018573, -79.15551698297246, -79.1438466233464, -79.41724569883972, -75.35882429754284, -100.00000000000003, -100.00000000000003, -79.1555169829725, -79.14384662334646, -79.4172456988397, -75.35882429754284, -100.00000000000003, -100.00000000000003, -79.15551698297257, -79.1438466233464, -79.41724569883968, -75.35882429754278, -77.88901484437083, -100.00000000000003, -79.15551698297256, -79.14384662334636, -79.41724569883976, -75.35882429754284, -100.00000000000003, -78.28159296937078, -79.15551698297253, -79.14384662334643, -79.41724569883976, -75.35882429754277, -100.00000000000003, -100.00000000000003, -79.15551698297244, -79.14384662334655, -79.41724569883961, -75.35882429754277, -100.00000000000003, -100.00000000000003, -79.15551698297261, -79.14384662334653, -79.41724569883962, -75.35882429754281, -77.88901484437065, -100.00000000000003, -79.15551698297263, -79.14384662334643, -79.41724569883962, -75.3588242975427, -100.00000000000003, -78.28159296937058, -79.15551698297244, -79.14384662334643, -79.41724569883968, -75.35882429754275, -76.63688333518573, -100.00000000000003, -79.15551698297261, -79.14384662334642, -79.4172456988397, -75.35882429754294, -76.6368833351857, -100.00000000000003, -79.1555169829726, -79.1438466233465, -79.41724569883976, -75.35882429754271, -76.63688333518571, -100.00000000000003, -79.1555169829726, -79.14384662334655, -79.41724569883958, -75.35882429754287, -76.63688333518563, -78.28159296937066, -79.15551698297246, -79.14384662334648, -79.41724569883974, -75.35882429754288, -100.00000000000003, -76.8966489601856, -79.15551698297263, -79.14384662334649, -79.41724569883975, -75.35882429754281, -100.00000000000003, -76.8966489601858, -79.15551698297257, -79.14384662334639, -79.41724569883966, -75.35882429754295, -77.88901484437065, -76.89664896018564, -79.15551698297259, -79.1438466233465, -79.41724569883971, -75.35882429754275, -100.00000000000003, -76.8966489601856, -79.15551698297253, -79.14384662334648, -79.41724569883958, -75.35882429754274, -100.00000000000003, -100.00000000000003, -79.15551698297254, -79.14384662334649, -79.41724569883964, -75.35882429754288, -100.00000000000003, -100.00000000000003, -79.15551698297263, -79.14384662334648, -79.41724569883972, -75.35882429754292, -77.88901484437066, -100.00000000000003, -79.15551698297254, -79.14384662334645, -79.41724569883968, -75.35882429754278, -100.00000000000003, -78.28159296937073, -80.2333283618072, -80.21741414491957, -80.63482903924718, -75.35882429754274, -100.00000000000003, -100.00000000000003, -100.00000000000003, -100.00000000000003, -100.00000000000003, -75.35882429754267, -100.00000000000003, -100.00000000000003, -100.00000000000003, -100.00000000000003, -100.00000000000003, -75.35882429754272, -77.88901484437069, -100.00000000000003, -100.00000000000003, -100.00000000000003, -100.00000000000003, -75.35882429754298, -100.00000000000003, -78.28159296937066, -80.23332836180722, -80.21741414491952, -80.63482903924697, -75.35882429754264, -76.63688333518586, -100.00000000000003, -100.00000000000003, -100.00000000000003, -100.00000000000003, -75.3588242975427, -76.63688333518566, -100.00000000000003, -100.00000000000003, -100.00000000000003, -100.00000000000003, -75.35882429754272, -76.63688333518584, -100.00000000000003, -100.00000000000003, -100.00000000000003, -100.00000000000003, -75.35882429754275, -76.63688333518573, -78.28159296937065, -80.23332836180708, -80.21741414491942, -80.63482903924702, -75.35882429754282, -100.00000000000003, -76.8966489601856, -100.00000000000003, -100.00000000000003, -100.00000000000003, -75.35882429754275, -100.00000000000003, -76.89664896018564, -100.00000000000003, -100.00000000000003, -100.00000000000003, -75.3588242975428, -77.88901484437064, -76.89664896018567, -100.00000000000003, -100.00000000000003, -100.00000000000003, -75.3588242975428, -100.00000000000003, -76.89664896018566, -79.1555169829725, -79.14384662334649, -79.41724569883966, -75.35882429754268, -76.63688333518566, -100.00000000000003, -79.15551698297256, -79.14384662334649, -79.41724569883979, -75.35882429754265, -76.6368833351857, -100.00000000000003, -79.15551698297253, -79.14384662334658, -79.4172456988398, -75.35882429754285, -76.6368833351857, -100.00000000000003, -79.15551698297247, -79.1438466233464, -79.4172456988396, -75.35882429754274, -76.63688333518594, -78.28159296937068, -80.23332836180715, -80.21741414491953, -80.634829039247, -75.35882429754271, -76.63688333518589, -100.00000000000003, -100.00000000000003, -100.00000000000003, -100.00000000000003, -75.35882429754275, -76.63688333518553, -100.00000000000003, -100.00000000000003, -100.00000000000003, -100.00000000000003, -75.35882429754277, -76.63688333518563, -100.00000000000003, -100.00000000000003, -100.00000000000003, -100.00000000000003, -75.35882429754281, -76.63688333518562, -78.28159296937065, -80.23332836180707, -80.21741414491956, -80.63482903924705, -75.35882429754281, -76.63688333518571, -100.00000000000003, -100.00000000000003, -100.00000000000003, -100.00000000000003, -75.35882429754278, -76.63688333518573, -100.00000000000003, -100.00000000000003, -100.00000000000003, -100.00000000000003, -75.35882429754268, -76.63688333518574, -100.00000000000003, -100.00000000000003, -100.00000000000003, -100.00000000000003, -75.35882429754271, -76.63688333518564, -78.28159296937069, -80.2333283618072, -80.21741414491946, -80.6348290392471, -75.35882429754288, -76.6368833351856, -76.89664896018573, -100.00000000000003, -100.00000000000003, -100.00000000000003, -75.35882429754287, -76.63688333518571, -76.89664896018567, -100.00000000000003, -100.00000000000003, -100.00000000000003, -75.35882429754292, -76.63688333518571, -76.89664896018571, -100.00000000000003, -100.00000000000003, -100.00000000000003, -75.3588242975428, -76.63688333518573, -76.8966489601857, -79.15551698297254, -79.14384662334648, -79.41724569883965, -75.35882429754285, -100.00000000000003, -76.89664896018567, -79.1555169829727, -79.14384662334646, -79.41724569883975, -75.35882429754284, -100.00000000000003, -76.8966489601857, -79.15551698297257, -79.14384662334646, -79.41724569883974, -75.3588242975428, -77.88901484437066, -76.89664896018556, -79.15551698297259, -79.14384662334645, -79.41724569883974, -75.35882429754278, -100.00000000000003, -76.89664896018564, -80.2333283618071, -80.21741414491954, -80.63482903924704, -75.35882429754278, -100.00000000000003, -76.89664896018563, -100.00000000000003, -100.00000000000003, -100.00000000000003, -75.35882429754255, -100.00000000000003, -76.89664896018559, -100.00000000000003, -100.00000000000003, -100.00000000000003, -75.35882429754284, -77.88901484437076, -76.89664896018576, -100.00000000000003, -100.00000000000003, -100.00000000000003, -75.35882429754274, -100.00000000000003, -76.89664896018574, -80.23332836180718, -80.21741414491952, -80.63482903924714, -75.35882429754294, -76.63688333518553, -76.89664896018569, -100.00000000000003, -100.00000000000003, -100.00000000000003, -75.35882429754287, -76.63688333518562, -76.89664896018564, -100.00000000000003, -100.00000000000003, -100.00000000000003, -75.35882429754294, -76.63688333518564, -76.89664896018571, -100.00000000000003, -100.00000000000003, -100.00000000000003, -75.35882429754288, -76.63688333518566, -76.89664896018574, -80.23332836180711, -80.21741414491957, -80.63482903924711, -75.35882429754294, -100.00000000000003, -76.8966489601858, -100.00000000000003, -100.00000000000003, -100.00000000000003, -75.35882429754292, -100.00000000000003, -76.89664896018573, -100.00000000000003, -100.00000000000003, -100.00000000000003, -75.35882429754288, -77.88901484437064, -76.89664896018559, -100.00000000000003, -100.00000000000003, -100.00000000000003, -75.35882429754271, -100.00000000000003, -76.89664896018564, -79.15551698297246, -79.14384662334646, -79.41724569883962, -100.00000000000003, -75.30057482079681, -100.00000000000003, -79.15551698297249, -79.14384662334642, -79.41724569883965, -77.95532977053874, -75.3005748207969, -100.00000000000003, -79.15551698297259, -79.14384662334636, -79.41724569883974, -100.00000000000003, -75.30057482079675, -100.00000000000003, -79.15551698297251, -79.14384662334642, -79.41724569883971, -100.00000000000003, -75.30057482079675, -78.28159296937069, -79.15551698297254, -79.1438466233464, -79.41724569883984, -76.69919601299533, -75.30057482079692, -100.00000000000003, -79.15551698297256, -79.14384662334649, -79.41724569883976, -76.69919601299532, -75.30057482079692, -100.00000000000003, -79.15551698297254, -79.14384662334642, -79.41724569883972, -76.69919601299526, -75.30057482079673, -100.00000000000003, -79.15551698297271, -79.14384662334658, -79.41724569883976, -76.6991960129953, -75.30057482079681, -78.28159296937064, -79.15551698297247, -79.14384662334649, -79.4172456988397, -100.00000000000003, -75.30057482079684, -100.00000000000003, -79.15551698297256, -79.14384662334646, -79.41724569883964, -77.9553297705388, -75.30057482079677, -100.00000000000003, -79.15551698297251, -79.14384662334648, -79.41724569883974, -100.00000000000003, -75.30057482079677, -100.00000000000003, -79.15551698297261, -79.14384662334643, -79.41724569883971, -100.00000000000003, -75.30057482079691, -78.28159296937069, -79.15551698297257, -79.14384662334646, -79.41724569883978, -100.00000000000003, -75.30057482079678, -76.89664896018569, -79.1555169829725, -79.14384662334645, -79.4172456988396, -77.95532977053868, -75.30057482079694, -76.89664896018574, -79.15551698297247, -79.14384662334648, -79.41724569883961, -100.00000000000003, -75.30057482079675, -76.89664896018566, -79.15551698297254, -79.14384662334649, -79.41724569883962, -100.00000000000003, -75.30057482079675, -76.89664896018556, -79.15551698297251, -79.1438466233464, -79.41724569883962, -76.69919601299547, -75.30057482079678, -100.00000000000003, -79.1555169829726, -79.14384662334648, -79.4172456988397, -76.69919601299526, -75.30057482079692, -100.00000000000003, -79.15551698297251, -79.14384662334649, -79.41724569883979, -76.6991960129954, -75.30057482079684, -100.00000000000003, -79.15551698297256, -79.14384662334648, -79.41724569883974, -76.69919601299526, -75.30057482079692, -78.28159296937064, -80.23332836180718, -80.21741414491952, -80.6348290392471, -76.69919601299533, -75.30057482079674, -100.00000000000003, -100.00000000000003, -100.00000000000003, -100.00000000000003, -76.6991960129954, -75.30057482079675, -100.00000000000003, -100.00000000000003, -100.00000000000003, -100.00000000000003, -76.69919601299523, -75.30057482079688, -100.00000000000003, -100.00000000000003, -100.00000000000003, -100.00000000000003, -76.69919601299515, -75.30057482079675, -78.28159296937056, -80.23332836180708, -80.21741414491967, -80.63482903924708, -76.6991960129955, -75.30057482079675, -100.00000000000003, -100.00000000000003, -100.00000000000003, -100.00000000000003, -76.69919601299539, -75.30057482079677, -100.00000000000003, -100.00000000000003, -100.00000000000003, -100.00000000000003, -76.69919601299539, -75.30057482079685, -100.00000000000003, -100.00000000000003, -100.00000000000003, -100.00000000000003, -76.69919601299532, -75.30057482079684, -78.28159296937059, -80.23332836180708, -80.21741414491949, -80.63482903924707, -76.69919601299537, -75.30057482079668, -76.8966489601857, -100.00000000000003, -100.00000000000003, -100.00000000000003, -76.69919601299534, -75.30057482079673, -76.89664896018564, -100.00000000000003, -100.00000000000003, -100.00000000000003, -76.69919601299534, -75.30057482079677, -76.89664896018566, -100.00000000000003, -100.00000000000003, -100.00000000000003, -76.6991960129954, -75.30057482079678, -76.89664896018566, -79.15551698297249, -79.14384662334655, -79.41724569883971, -100.00000000000003, -75.30057482079685, -100.00000000000003, -79.15551698297259, -79.14384662334656, -79.41724569883985, -77.95532977053861, -75.30057482079683, -100.00000000000003, -79.15551698297247, -79.14384662334648, -79.41724569883961, -100.00000000000003, -75.30057482079667, -100.00000000000003, -79.15551698297263, -79.14384662334645, -79.41724569883972, -100.00000000000003, -75.30057482079684, -78.28159296937069, -80.23332836180693, -80.21741414491953, -80.63482903924721, -76.69919601299537, -75.30057482079668, -100.00000000000003, -100.00000000000003, -100.00000000000003, -100.00000000000003, -76.69919601299517, -75.30057482079683, -100.00000000000003, -100.00000000000003, -100.00000000000003, -100.00000000000003, -76.69919601299537, -75.30057482079677, -100.00000000000003, -100.00000000000003, -100.00000000000003, -100.00000000000003, -76.69919601299532, -75.30057482079678, -78.28159296937073, -80.23332836180711, -80.2174141449196, -80.63482903924715, -100.00000000000003, -75.3005748207968, -100.00000000000003, -100.00000000000003, -100.00000000000003, -100.00000000000003, -77.95532977053874, -75.30057482079671, -100.00000000000003, -100.00000000000003, -100.00000000000003, -100.00000000000003, -100.00000000000003, -75.30057482079684, -100.00000000000003, -100.00000000000003, -100.00000000000003, -100.00000000000003, -100.00000000000003, -75.30057482079678, -78.28159296937076, -80.23332836180717, -80.21741414491959, -80.6348290392471, -100.00000000000003, -75.30057482079675, -76.89664896018562, -100.00000000000003, -100.00000000000003, -100.00000000000003, -77.95532977053863, -75.3005748207968, -76.89664896018562, -100.00000000000003, -100.00000000000003, -100.00000000000003, -100.00000000000003, -75.30057482079678, -76.8966489601857, -100.00000000000003, -100.00000000000003, -100.00000000000003, -100.00000000000003, -75.3005748207968, -76.89664896018569, -79.15551698297259, -79.14384662334653, -79.41724569883964, -100.00000000000003, -75.30057482079675, -76.89664896018557, -79.15551698297254, -79.14384662334642, -79.41724569883971, -77.95532977053857, -75.30057482079677, -76.89664896018567, -79.15551698297256, -79.14384662334655, -79.41724569883976, -100.00000000000003, -75.3005748207968, -76.8966489601857, -79.1555169829725, -79.1438466233465, -79.41724569883972, -100.00000000000003, -75.3005748207968, -76.89664896018562, -80.23332836180714, -80.21741414491957, -80.6348290392471, -76.6991960129953, -75.30057482079674, -76.89664896018567, -100.00000000000003, -100.00000000000003, -100.00000000000003, -76.69919601299515, -75.30057482079698, -76.89664896018564, -100.00000000000003, -100.00000000000003, -100.00000000000003, -76.69919601299551, -75.30057482079695, -76.8966489601858, -100.00000000000003, -100.00000000000003, -100.00000000000003, -76.69919601299533, -75.30057482079694, -76.89664896018584, -80.23332836180714, -80.21741414491967, -80.6348290392471, -100.00000000000003, -75.30057482079687, -76.89664896018593, -100.00000000000003, -100.00000000000003, -100.00000000000003, -77.95532977053865, -75.3005748207969, -76.89664896018562, -100.00000000000003, -100.00000000000003, -100.00000000000003, -100.00000000000003, -75.30057482079678, -76.89664896018563, -100.00000000000003, -100.00000000000003, -100.00000000000003, -100.00000000000003, -75.30057482079675, -76.89664896018566, -80.23332836180715, -80.21741414491967, -80.63482903924715, -100.00000000000003, -75.30057482079671, -76.89664896018563, -100.00000000000003, -100.00000000000003, -100.00000000000003, -77.95532977053881, -75.30057482079687, -76.89664896018566, -100.00000000000003, -100.00000000000003, -100.00000000000003, -100.00000000000003, -75.30057482079675, -76.89664896018573, -100.00000000000003, -100.00000000000003, -100.00000000000003, -100.00000000000003, -75.30057482079685, -76.89664896018571, -79.15551698297249, -79.14384662334642, -79.41724569883966, -100.00000000000003, -100.00000000000003, -75.43045763329683, -79.15551698297242, -79.14384662334645, -79.4172456988397, -77.95532977053877, -100.00000000000003, -75.43045763329681, -79.15551698297256, -79.14384662334649, -79.41724569883968, -100.00000000000003, -77.88901484437066, -75.43045763329678, -79.15551698297254, -79.14384662334648, -79.41724569883975, -100.00000000000003, -100.00000000000003, -75.43045763329677, -79.15551698297254, -79.14384662334643, -79.41724569883964, -76.69919601299534, -100.00000000000003, -75.43045763329683, -79.15551698297261, -79.14384662334642, -79.41724569883966, -76.69919601299543, -100.00000000000003, -75.43045763329688, -79.1555169829726, -79.14384662334649, -79.41724569883968, -76.69919601299527, -77.8890148443706, -75.43045763329683, -79.15551698297256, -79.14384662334648, -79.41724569883975, -76.69919601299527, -100.00000000000003, -75.43045763329681, -79.1555169829726, -79.14384662334642, -79.41724569883975, -100.00000000000003, -76.63688333518566, -75.43045763329691, -79.15551698297254, -79.14384662334653, -79.41724569883968, -77.95532977053873, -76.63688333518566, -75.43045763329681, -79.15551698297261, -79.14384662334636, -79.41724569883964, -100.00000000000003, -76.63688333518567, -75.43045763329684, -79.15551698297254, -79.1438466233465, -79.41724569883984, -100.00000000000003, -76.63688333518559, -75.4304576332968, -79.15551698297249, -79.14384662334649, -79.41724569883978, -100.00000000000003, -100.00000000000003, -75.4304576332967, -79.15551698297259, -79.14384662334643, -79.41724569883979, -77.95532977053878, -100.00000000000003, -75.43045763329674, -79.15551698297249, -79.14384662334642, -79.41724569883966, -100.00000000000003, -77.88901484437068, -75.4304576332969, -79.1555169829725, -79.14384662334645, -79.41724569883978, -100.00000000000003, -100.00000000000003, -75.43045763329678, -79.1555169829726, -79.14384662334645, -79.4172456988397, -76.69919601299537, -100.00000000000003, -75.43045763329681, -79.15551698297256, -79.1438466233465, -79.41724569883966, -76.69919601299532, -100.00000000000003, -75.43045763329683, -79.15551698297254, -79.14384662334649, -79.41724569883975, -76.69919601299533, -77.88901484437073, -75.4304576332968, -79.15551698297259, -79.14384662334653, -79.41724569883972, -76.69919601299539, -100.00000000000003, -75.43045763329683, -80.23332836180715, -80.21741414491954, -80.63482903924702, -76.69919601299532, -100.00000000000003, -75.43045763329674, -100.00000000000003, -100.00000000000003, -100.00000000000003, -76.69919601299527, -100.00000000000003, -75.43045763329665, -100.00000000000003, -100.00000000000003, -100.00000000000003, -76.69919601299546, -77.88901484437073, -75.43045763329704, -100.00000000000003, -100.00000000000003, -100.00000000000003, -76.69919601299542, -100.00000000000003, -75.43045763329688, -80.23332836180724, -80.21741414491952, -80.63482903924698, -76.69919601299527, -76.63688333518556, -75.43045763329663, -100.00000000000003, -100.00000000000003, -100.00000000000003, -76.69919601299524, -76.63688333518579, -75.43045763329688, -100.00000000000003, -100.00000000000003, -100.00000000000003, -76.6991960129953, -76.63688333518566, -75.4304576332969, -100.00000000000003, -100.00000000000003, -100.00000000000003, -76.69919601299526, -76.63688333518566, -75.43045763329681, -80.23332836180705, -80.21741414491964, -80.6348290392471, -76.69919601299537, -100.00000000000003, -75.43045763329681, -100.00000000000003, -100.00000000000003, -100.00000000000003, -76.69919601299537, -100.00000000000003, -75.43045763329681, -100.00000000000003, -100.00000000000003, -100.00000000000003, -76.69919601299534, -77.88901484437062, -75.43045763329681, -100.00000000000003, -100.00000000000003, -100.00000000000003, -76.69919601299539, -100.00000000000003, -75.43045763329681, -79.15551698297251, -79.14384662334642, -79.41724569883965, -100.00000000000003, -76.63688333518553, -75.43045763329685, -79.15551698297247, -79.14384662334649, -79.4172456988398, -77.95532977053871, -76.6368833351855, -75.43045763329665, -79.15551698297254, -79.14384662334646, -79.41724569883975, -100.00000000000003, -76.6368833351856, -75.430457633297, -79.15551698297253, -79.14384662334642, -79.41724569883966, -100.00000000000003, -76.63688333518559, -75.43045763329691, -80.23332836180705, -80.21741414491957, -80.6348290392471, -76.69919601299529, -76.63688333518557, -75.43045763329691, -100.00000000000003, -100.00000000000003, -100.00000000000003, -76.69919601299527, -76.6368833351856, -75.43045763329692, -100.00000000000003, -100.00000000000003, -100.00000000000003, -76.69919601299527, -76.63688333518566, -75.43045763329673, -100.00000000000003, -100.00000000000003, -100.00000000000003, -76.6991960129953, -76.63688333518562, -75.4304576332968, -80.2333283618071, -80.21741414491949, -80.63482903924707, -100.00000000000003, -76.6368833351857, -75.43045763329681, -100.00000000000003, -100.00000000000003, -100.00000000000003, -77.95532977053873, -76.63688333518569, -75.43045763329681, -100.00000000000003, -100.00000000000003, -100.00000000000003, -100.00000000000003, -76.63688333518567, -75.43045763329678, -100.00000000000003, -100.00000000000003, -100.00000000000003, -100.00000000000003, -76.63688333518574, -75.43045763329681, -80.23332836180708, -80.21741414491957, -80.63482903924712, -100.00000000000003, -76.63688333518562, -75.4304576332969, -100.00000000000003, -100.00000000000003, -100.00000000000003, -77.95532977053873, -76.63688333518556, -75.43045763329697, -100.00000000000003, -100.00000000000003, -100.00000000000003, -100.00000000000003, -76.63688333518567, -75.43045763329678, -100.00000000000003, -100.00000000000003, -100.00000000000003, -100.00000000000003, -76.63688333518562, -75.43045763329681, -79.15551698297246, -79.14384662334645, -79.41724569883978, -100.00000000000003, -100.00000000000003, -75.43045763329677, -79.15551698297256, -79.14384662334642, -79.41724569883976, -77.95532977053867, -100.00000000000003, -75.43045763329677, -79.15551698297257, -79.14384662334639, -79.41724569883979, -100.00000000000003, -77.88901484437064, -75.43045763329675, -79.15551698297253, -79.1438466233464, -79.41724569883975, -100.00000000000003, -100.00000000000003, -75.43045763329678, -80.23332836180714, -80.21741414491959, -80.63482903924707, -76.69919601299536, -100.00000000000003, -75.43045763329674, -100.00000000000003, -100.00000000000003, -100.00000000000003, -76.6991960129951, -100.00000000000003, -75.43045763329663, -100.00000000000003, -100.00000000000003, -100.00000000000003, -76.69919601299549, -77.88901484437069, -75.43045763329684, -100.00000000000003, -100.00000000000003, -100.00000000000003, -76.69919601299543, -100.00000000000003, -75.4304576332967, -80.23332836180728, -80.21741414491953, -80.63482903924691, -100.00000000000003, -76.63688333518563, -75.43045763329675, -100.00000000000003, -100.00000000000003, -100.00000000000003, -77.95532977053864, -76.63688333518559, -75.43045763329685, -100.00000000000003, -100.00000000000003, -100.00000000000003, -100.00000000000003, -76.63688333518549, -75.43045763329677, -100.00000000000003, -100.00000000000003, -100.00000000000003, -100.00000000000003, -76.6368833351856, -75.4304576332968, -80.23332836180704, -80.21741414491966, -80.63482903924702, -100.00000000000003, -100.00000000000003, -75.43045763329675, -100.00000000000003, -100.00000000000003, -100.00000000000003, -77.95532977053878, -100.00000000000003, -75.43045763329677, -100.00000000000003, -100.00000000000003, -100.00000000000003, -100.00000000000003, -77.88901484437068, -75.4304576332968, -100.00000000000003, -100.00000000000003, -100.00000000000003, -100.00000000000003, -100.00000000000003, -75.4304576332968)\n",
            "1000\n",
            "Value-Iteration Algorithm:\n",
            "(0, 0, 0, 0, 0, 0, 0, 0, 0, 3, 0, 0, 0, 0, 0, 0, 3, 0, 0, 0, 0, 0, 0, 3, 0, 0, 0, 2, 0, 0, 0, 0, 0, 2, 0, 0, 0, 0, 0, 2, 3, 0, 0, 0, 0, 2, 0, 3, 0, 0, 0, 0, 2, 0, 0, 0, 0, 3, 2, 0, 0, 0, 0, 0, 2, 0, 0, 0, 0, 0, 2, 3, 0, 0, 0, 0, 0, 2, 0, 0, 0, 3, 0, 2, 0, 0, 0, 0, 3, 2, 0, 0, 0, 0, 0, 2, 0, 0, 0, 1, 0, 0, 0, 0, 0, 1, 0, 0, 0, 0, 0, 1, 3, 0, 0, 0, 0, 1, 0, 3, 0, 0, 0, 1, 0, 0, 0, 0, 0, 1, 0, 0, 0, 0, 0, 1, 3, 0, 0, 0, 0, 1, 0, 3, 0, 0, 0, 1, 2, 0, 0, 0, 0, 1, 2, 0, 0, 0, 0, 1, 2, 0, 0, 0, 0, 1, 2, 3, 0, 0, 0, 1, 0, 2, 0, 0, 0, 1, 0, 2, 0, 0, 0, 1, 3, 2, 0, 0, 0, 1, 0, 2, 0, 0, 0, 0, 1, 0, 0, 0, 0, 3, 1, 0, 0, 0, 0, 0, 1, 0, 0, 0, 0, 0, 1, 3, 0, 0, 0, 2, 1, 0, 0, 0, 0, 2, 1, 0, 0, 0, 0, 2, 1, 0, 0, 0, 0, 2, 1, 3, 0, 0, 0, 0, 1, 0, 0, 0, 0, 3, 1, 0, 0, 0, 0, 0, 1, 0, 0, 0, 0, 0, 1, 3, 0, 0, 0, 0, 1, 2, 0, 0, 0, 3, 1, 2, 0, 0, 0, 0, 1, 2, 0, 0, 0, 0, 1, 2, 0, 0, 0, 0, 0, 1, 0, 0, 0, 3, 0, 1, 0, 0, 0, 0, 3, 1, 0, 0, 0, 0, 0, 1, 0, 0, 0, 2, 0, 1, 0, 0, 0, 2, 0, 1, 0, 0, 0, 2, 3, 1, 0, 0, 0, 2, 0, 1, 0, 0, 0, 0, 2, 1, 0, 0, 0, 3, 2, 1, 0, 0, 0, 0, 2, 1, 0, 0, 0, 0, 2, 1, 0, 0, 0, 0, 0, 1, 0, 0, 0, 3, 0, 1, 0, 0, 0, 0, 3, 1, 0, 0, 0, 0, 0, 1, 1, 1, 1, 0, 0, 0, 1, 1, 1, 0, 0, 0, 1, 1, 1, 0, 3, 0, 1, 1, 1, 0, 0, 3, 1, 1, 1, 0, 0, 0, 1, 1, 1, 0, 0, 0, 1, 1, 1, 0, 3, 0, 1, 1, 1, 0, 0, 3, 1, 1, 1, 0, 2, 0, 1, 1, 1, 0, 2, 0, 1, 1, 1, 0, 2, 0, 1, 1, 1, 0, 2, 3, 1, 1, 1, 0, 0, 2, 1, 1, 1, 0, 0, 2, 1, 1, 1, 0, 3, 2, 1, 1, 1, 0, 0, 2, 2, 2, 2, 0, 0, 0, 2, 2, 2, 0, 0, 0, 2, 2, 2, 0, 3, 0, 2, 2, 2, 0, 0, 3, 3, 3, 3, 0, 0, 0, 0, 0, 0, 0, 0, 0, 0, 0, 0, 0, 3, 0, 0, 0, 0, 0, 0, 3, 3, 3, 3, 0, 2, 0, 0, 0, 0, 0, 2, 0, 0, 0, 0, 0, 2, 0, 0, 0, 0, 0, 2, 3, 3, 3, 3, 0, 0, 2, 0, 0, 0, 0, 0, 2, 0, 0, 0, 0, 3, 2, 0, 0, 0, 0, 0, 2, 2, 2, 2, 0, 1, 0, 2, 2, 2, 0, 1, 0, 2, 2, 2, 0, 1, 0, 2, 2, 2, 0, 1, 3, 3, 3, 3, 0, 1, 0, 0, 0, 0, 0, 1, 0, 0, 0, 0, 0, 1, 0, 0, 0, 0, 0, 1, 3, 3, 3, 3, 0, 1, 0, 0, 0, 0, 0, 1, 0, 0, 0, 0, 0, 1, 0, 0, 0, 0, 0, 1, 3, 3, 3, 3, 0, 1, 2, 0, 0, 0, 0, 1, 2, 0, 0, 0, 0, 1, 2, 0, 0, 0, 0, 1, 2, 2, 2, 2, 0, 0, 1, 2, 2, 2, 0, 0, 1, 2, 2, 2, 0, 3, 1, 2, 2, 2, 0, 0, 1, 3, 3, 3, 0, 0, 1, 0, 0, 0, 0, 0, 1, 0, 0, 0, 0, 3, 1, 0, 0, 0, 0, 0, 1, 3, 3, 3, 0, 2, 1, 0, 0, 0, 0, 2, 1, 0, 0, 0, 0, 2, 1, 0, 0, 0, 0, 2, 1, 3, 3, 3, 0, 0, 1, 0, 0, 0, 0, 0, 1, 0, 0, 0, 0, 3, 1, 0, 0, 0, 0, 0, 1, 1, 1, 1, 0, 0, 0, 1, 1, 1, 3, 0, 0, 1, 1, 1, 0, 0, 0, 1, 1, 1, 0, 0, 3, 1, 1, 1, 2, 0, 0, 1, 1, 1, 2, 0, 0, 1, 1, 1, 2, 0, 0, 1, 1, 1, 2, 0, 3, 1, 1, 1, 0, 0, 0, 1, 1, 1, 3, 0, 0, 1, 1, 1, 0, 0, 0, 1, 1, 1, 0, 0, 3, 1, 1, 1, 0, 0, 2, 1, 1, 1, 3, 0, 2, 1, 1, 1, 0, 0, 2, 1, 1, 1, 0, 0, 2, 2, 2, 2, 1, 0, 0, 2, 2, 2, 1, 0, 0, 2, 2, 2, 1, 0, 0, 2, 2, 2, 1, 0, 3, 3, 3, 3, 1, 0, 0, 0, 0, 0, 1, 0, 0, 0, 0, 0, 1, 0, 0, 0, 0, 0, 1, 0, 3, 3, 3, 3, 1, 0, 0, 0, 0, 0, 1, 0, 0, 0, 0, 0, 1, 0, 0, 0, 0, 0, 1, 0, 3, 3, 3, 3, 1, 0, 2, 0, 0, 0, 1, 0, 2, 0, 0, 0, 1, 0, 2, 0, 0, 0, 1, 0, 2, 2, 2, 2, 0, 0, 0, 2, 2, 2, 3, 0, 0, 2, 2, 2, 0, 0, 0, 2, 2, 2, 0, 0, 3, 3, 3, 3, 2, 0, 0, 0, 0, 0, 2, 0, 0, 0, 0, 0, 2, 0, 0, 0, 0, 0, 2, 0, 3, 3, 3, 3, 0, 0, 0, 0, 0, 0, 3, 0, 0, 0, 0, 0, 0, 0, 0, 0, 0, 0, 0, 0, 3, 3, 3, 3, 0, 0, 2, 0, 0, 0, 3, 0, 2, 0, 0, 0, 0, 0, 2, 0, 0, 0, 0, 0, 2, 2, 2, 2, 0, 0, 1, 2, 2, 2, 3, 0, 1, 2, 2, 2, 0, 0, 1, 2, 2, 2, 0, 0, 1, 3, 3, 3, 2, 0, 1, 0, 0, 0, 2, 0, 1, 0, 0, 0, 2, 0, 1, 0, 0, 0, 2, 0, 1, 3, 3, 3, 0, 0, 1, 0, 0, 0, 3, 0, 1, 0, 0, 0, 0, 0, 1, 0, 0, 0, 0, 0, 1, 3, 3, 3, 0, 0, 1, 0, 0, 0, 3, 0, 1, 0, 0, 0, 0, 0, 1, 0, 0, 0, 0, 0, 1, 1, 1, 1, 0, 0, 0, 1, 1, 1, 3, 0, 0, 1, 1, 1, 0, 3, 0, 1, 1, 1, 0, 0, 0, 1, 1, 1, 2, 0, 0, 1, 1, 1, 2, 0, 0, 1, 1, 1, 2, 3, 0, 1, 1, 1, 2, 0, 0, 1, 1, 1, 0, 2, 0, 1, 1, 1, 3, 2, 0, 1, 1, 1, 0, 2, 0, 1, 1, 1, 0, 2, 0, 1, 1, 1, 0, 0, 0, 1, 1, 1, 3, 0, 0, 1, 1, 1, 0, 3, 0, 1, 1, 1, 0, 0, 0, 2, 2, 2, 1, 0, 0, 2, 2, 2, 1, 0, 0, 2, 2, 2, 1, 3, 0, 2, 2, 2, 1, 0, 0, 3, 3, 3, 1, 0, 0, 0, 0, 0, 1, 0, 0, 0, 0, 0, 1, 3, 0, 0, 0, 0, 1, 0, 0, 3, 3, 3, 1, 2, 0, 0, 0, 0, 1, 2, 0, 0, 0, 0, 1, 2, 0, 0, 0, 0, 1, 2, 0, 3, 3, 3, 1, 0, 0, 0, 0, 0, 1, 0, 0, 0, 0, 0, 1, 3, 0, 0, 0, 0, 1, 0, 0, 2, 2, 2, 0, 1, 0, 2, 2, 2, 3, 1, 0, 2, 2, 2, 0, 1, 0, 2, 2, 2, 0, 1, 0, 3, 3, 3, 2, 1, 0, 0, 0, 0, 2, 1, 0, 0, 0, 0, 2, 1, 0, 0, 0, 0, 2, 1, 0, 3, 3, 3, 0, 1, 0, 0, 0, 0, 3, 1, 0, 0, 0, 0, 0, 1, 0, 0, 0, 0, 0, 1, 0, 3, 3, 3, 0, 1, 0, 0, 0, 0, 3, 1, 0, 0, 0, 0, 0, 1, 0, 0, 0, 0, 0, 1, 0, 2, 2, 2, 0, 0, 0, 2, 2, 2, 3, 0, 0, 2, 2, 2, 0, 3, 0, 2, 2, 2, 0, 0, 0, 3, 3, 3, 2, 0, 0, 0, 0, 0, 2, 0, 0, 0, 0, 0, 2, 3, 0, 0, 0, 0, 2, 0, 0, 3, 3, 3, 0, 2, 0, 0, 0, 0, 3, 2, 0, 0, 0, 0, 0, 2, 0, 0, 0, 0, 0, 2, 0, 3, 3, 3, 0, 0, 0, 0, 0, 0, 3, 0, 0, 0, 0, 0, 0, 3, 0, 0, 0, 0, 0, 0, 0)\n",
            "(-69.24927306972012, -69.24257437202026, -69.36661296958914, -91.13706188034752, -91.13706188034752, -91.13706188034752, -69.24927306972012, -69.24257437202026, -69.36661296958914, -69.09227674156314, -91.13706188034752, -91.13706188034752, -69.24927306972012, -69.24257437202026, -69.36661296958914, -91.13706188034752, -69.03245014118498, -91.13706188034752, -69.24927306972012, -69.24257437202026, -69.36661296958914, -91.13706188034752, -91.13706188034752, -69.42502826618498, -69.24927306972012, -69.24257437202026, -69.36661296958914, -67.83614298401982, -91.13706188034752, -91.13706188034752, -69.24927306972012, -69.24257437202026, -69.36661296958914, -67.83614298401982, -91.13706188034752, -91.13706188034752, -69.24927306972012, -69.24257437202026, -69.36661296958914, -67.83614298401982, -69.03245014118498, -91.13706188034752, -69.24927306972012, -69.24257437202026, -69.36661296958914, -67.83614298401982, -91.13706188034752, -69.42502826618498, -69.24927306972012, -69.24257437202026, -69.36661296958914, -91.13706188034752, -67.78031863200006, -91.13706188034752, -69.24927306972012, -69.24257437202026, -69.36661296958914, -69.09227674156314, -67.78031863200006, -91.13706188034752, -69.24927306972012, -69.24257437202026, -69.36661296958914, -91.13706188034752, -67.78031863200006, -91.13706188034752, -69.24927306972012, -69.24257437202026, -69.36661296958914, -91.13706188034752, -67.78031863200006, -69.42502826618498, -69.24927306972012, -69.24257437202026, -69.36661296958914, -91.13706188034752, -91.13706188034752, -68.04008425700006, -69.24927306972012, -69.24257437202026, -69.36661296958914, -69.09227674156314, -91.13706188034752, -68.04008425700006, -69.24927306972012, -69.24257437202026, -69.36661296958914, -91.13706188034752, -69.03245014118498, -68.04008425700006, -69.24927306972012, -69.24257437202026, -69.36661296958914, -91.13706188034752, -91.13706188034752, -68.04008425700006, -69.24927306972012, -69.24257437202026, -69.36661296958914, -67.83614298401982, -91.13706188034752, -91.13706188034752, -69.24927306972012, -69.24257437202026, -69.36661296958914, -67.83614298401982, -91.13706188034752, -91.13706188034752, -69.24927306972012, -69.24257437202026, -69.36661296958914, -67.83614298401982, -69.03245014118498, -91.13706188034752, -69.24927306972012, -69.24257437202026, -69.36661296958914, -67.83614298401982, -91.13706188034752, -69.42502826618498, -69.24927306972012, -69.24257437202026, -69.36661296958914, -67.83614298401982, -91.13706188034752, -91.13706188034752, -69.24927306972012, -69.24257437202026, -69.36661296958914, -67.83614298401982, -91.13706188034752, -91.13706188034752, -69.24927306972012, -69.24257437202026, -69.36661296958914, -67.83614298401982, -69.03245014118498, -91.13706188034752, -69.24927306972012, -69.24257437202026, -69.36661296958914, -67.83614298401982, -91.13706188034752, -69.42502826618498, -69.24927306972012, -69.24257437202026, -69.36661296958914, -67.83614298401982, -67.78031863200006, -91.13706188034752, -69.24927306972012, -69.24257437202026, -69.36661296958914, -67.83614298401982, -67.78031863200006, -91.13706188034752, -69.24927306972012, -69.24257437202026, -69.36661296958914, -67.83614298401982, -67.78031863200006, -91.13706188034752, -69.24927306972012, -69.24257437202026, -69.36661296958914, -67.83614298401982, -67.78031863200006, -69.42502826618498, -69.24927306972012, -69.24257437202026, -69.36661296958914, -67.83614298401982, -91.13706188034752, -68.04008425700006, -69.24927306972012, -69.24257437202026, -69.36661296958914, -67.83614298401982, -91.13706188034752, -68.04008425700006, -69.24927306972012, -69.24257437202026, -69.36661296958914, -67.83614298401982, -69.03245014118498, -68.04008425700006, -69.24927306972012, -69.24257437202026, -69.36661296958914, -67.83614298401982, -91.13706188034752, -68.04008425700006, -69.24927306972012, -69.24257437202026, -69.36661296958914, -91.13706188034752, -67.78031863200006, -91.13706188034752, -69.24927306972012, -69.24257437202026, -69.36661296958914, -69.09227674156314, -67.78031863200006, -91.13706188034752, -69.24927306972012, -69.24257437202026, -69.36661296958914, -91.13706188034752, -67.78031863200006, -91.13706188034752, -69.24927306972012, -69.24257437202026, -69.36661296958914, -91.13706188034752, -67.78031863200006, -69.42502826618498, -69.24927306972012, -69.24257437202026, -69.36661296958914, -67.83614298401982, -67.78031863200006, -91.13706188034752, -69.24927306972012, -69.24257437202026, -69.36661296958914, -67.83614298401982, -67.78031863200006, -91.13706188034752, -69.24927306972012, -69.24257437202026, -69.36661296958914, -67.83614298401982, -67.78031863200006, -91.13706188034752, -69.24927306972012, -69.24257437202026, -69.36661296958914, -67.83614298401982, -67.78031863200006, -69.42502826618498, -69.24927306972012, -69.24257437202026, -69.36661296958914, -91.13706188034752, -67.78031863200006, -91.13706188034752, -69.24927306972012, -69.24257437202026, -69.36661296958914, -69.09227674156314, -67.78031863200006, -91.13706188034752, -69.24927306972012, -69.24257437202026, -69.36661296958914, -91.13706188034752, -67.78031863200006, -91.13706188034752, -69.24927306972012, -69.24257437202026, -69.36661296958914, -91.13706188034752, -67.78031863200006, -69.42502826618498, -69.24927306972012, -69.24257437202026, -69.36661296958914, -91.13706188034752, -67.78031863200006, -68.04008425700006, -69.24927306972012, -69.24257437202026, -69.36661296958914, -69.09227674156314, -67.78031863200006, -68.04008425700006, -69.24927306972012, -69.24257437202026, -69.36661296958914, -91.13706188034752, -67.78031863200006, -68.04008425700006, -69.24927306972012, -69.24257437202026, -69.36661296958914, -91.13706188034752, -67.78031863200006, -68.04008425700006, -69.24927306972012, -69.24257437202026, -69.36661296958914, -91.13706188034752, -91.13706188034752, -68.04008425700006, -69.24927306972012, -69.24257437202026, -69.36661296958914, -69.09227674156314, -91.13706188034752, -68.04008425700006, -69.24927306972012, -69.24257437202026, -69.36661296958914, -91.13706188034752, -69.03245014118498, -68.04008425700006, -69.24927306972012, -69.24257437202026, -69.36661296958914, -91.13706188034752, -91.13706188034752, -68.04008425700006, -69.24927306972012, -69.24257437202026, -69.36661296958914, -67.83614298401982, -91.13706188034752, -68.04008425700006, -69.24927306972012, -69.24257437202026, -69.36661296958914, -67.83614298401982, -91.13706188034752, -68.04008425700006, -69.24927306972012, -69.24257437202026, -69.36661296958914, -67.83614298401982, -69.03245014118498, -68.04008425700006, -69.24927306972012, -69.24257437202026, -69.36661296958914, -67.83614298401982, -91.13706188034752, -68.04008425700006, -69.24927306972012, -69.24257437202026, -69.36661296958914, -91.13706188034752, -67.78031863200006, -68.04008425700006, -69.24927306972012, -69.24257437202026, -69.36661296958914, -69.09227674156314, -67.78031863200006, -68.04008425700006, -69.24927306972012, -69.24257437202026, -69.36661296958914, -91.13706188034752, -67.78031863200006, -68.04008425700006, -69.24927306972012, -69.24257437202026, -69.36661296958914, -91.13706188034752, -67.78031863200006, -68.04008425700006, -69.24927306972012, -69.24257437202026, -69.36661296958914, -91.13706188034752, -91.13706188034752, -68.04008425700006, -69.24927306972012, -69.24257437202026, -69.36661296958914, -69.09227674156314, -91.13706188034752, -68.04008425700006, -69.24927306972012, -69.24257437202026, -69.36661296958914, -91.13706188034752, -69.03245014118498, -68.04008425700006, -69.24927306972012, -69.24257437202026, -69.36661296958914, -91.13706188034752, -91.13706188034752, -68.04008425700006, -70.29775056402285, -70.28653628496228, -70.55993536045551, -66.49577126856721, -91.13706188034752, -91.13706188034752, -70.29775056402285, -70.28653628496228, -70.55993536045551, -66.49577126856721, -91.13706188034752, -91.13706188034752, -70.29775056402285, -70.28653628496228, -70.55993536045551, -66.49577126856721, -69.03245014118498, -91.13706188034752, -70.29775056402285, -70.28653628496228, -70.55993536045551, -66.49577126856721, -91.13706188034752, -69.42502826618498, -70.29775056402285, -70.28653628496228, -70.55993536045551, -66.49577126856721, -91.13706188034752, -91.13706188034752, -70.29775056402285, -70.28653628496228, -70.55993536045551, -66.49577126856721, -91.13706188034752, -91.13706188034752, -70.29775056402285, -70.28653628496228, -70.55993536045551, -66.49577126856721, -69.03245014118498, -91.13706188034752, -70.29775056402285, -70.28653628496228, -70.55993536045551, -66.49577126856721, -91.13706188034752, -69.42502826618498, -70.29775056402285, -70.28653628496228, -70.55993536045551, -66.49577126856721, -67.78031863200006, -91.13706188034752, -70.29775056402285, -70.28653628496228, -70.55993536045551, -66.49577126856721, -67.78031863200006, -91.13706188034752, -70.29775056402285, -70.28653628496228, -70.55993536045551, -66.49577126856721, -67.78031863200006, -91.13706188034752, -70.29775056402285, -70.28653628496228, -70.55993536045551, -66.49577126856721, -67.78031863200006, -69.42502826618498, -70.29775056402285, -70.28653628496228, -70.55993536045551, -66.49577126856721, -91.13706188034752, -68.04008425700006, -70.29775056402285, -70.28653628496228, -70.55993536045551, -66.49577126856721, -91.13706188034752, -68.04008425700006, -70.29775056402285, -70.28653628496228, -70.55993536045551, -66.49577126856721, -69.03245014118498, -68.04008425700006, -70.29775056402285, -70.28653628496228, -70.55993536045551, -66.49577126856721, -91.13706188034752, -68.04008425700006, -70.29775056402285, -70.28653628496228, -70.55993536045551, -66.49577126856721, -91.13706188034752, -91.13706188034752, -70.29775056402285, -70.28653628496228, -70.55993536045551, -66.49577126856721, -91.13706188034752, -91.13706188034752, -70.29775056402285, -70.28653628496228, -70.55993536045551, -66.49577126856721, -69.03245014118498, -91.13706188034752, -70.29775056402285, -70.28653628496228, -70.55993536045551, -66.49577126856721, -91.13706188034752, -69.42502826618498, -71.3755619428574, -71.36010380653538, -71.77751870086291, -66.49577126856721, -91.13706188034752, -91.13706188034752, -91.13706188034752, -91.13706188034752, -91.13706188034752, -66.49577126856721, -91.13706188034752, -91.13706188034752, -91.13706188034752, -91.13706188034752, -91.13706188034752, -66.49577126856721, -69.03245014118498, -91.13706188034752, -91.13706188034752, -91.13706188034752, -91.13706188034752, -66.49577126856721, -91.13706188034752, -69.42502826618498, -71.3755619428574, -71.36010380653538, -71.77751870086291, -66.49577126856721, -67.78031863200006, -91.13706188034752, -91.13706188034752, -91.13706188034752, -91.13706188034752, -66.49577126856721, -67.78031863200006, -91.13706188034752, -91.13706188034752, -91.13706188034752, -91.13706188034752, -66.49577126856721, -67.78031863200006, -91.13706188034752, -91.13706188034752, -91.13706188034752, -91.13706188034752, -66.49577126856721, -67.78031863200006, -69.42502826618498, -71.3755619428574, -71.36010380653538, -71.77751870086291, -66.49577126856721, -91.13706188034752, -68.04008425700006, -91.13706188034752, -91.13706188034752, -91.13706188034752, -66.49577126856721, -91.13706188034752, -68.04008425700006, -91.13706188034752, -91.13706188034752, -91.13706188034752, -66.49577126856721, -69.03245014118498, -68.04008425700006, -91.13706188034752, -91.13706188034752, -91.13706188034752, -66.49577126856721, -91.13706188034752, -68.04008425700006, -70.29775056402285, -70.28653628496228, -70.55993536045551, -66.49577126856721, -67.78031863200006, -91.13706188034752, -70.29775056402285, -70.28653628496228, -70.55993536045551, -66.49577126856721, -67.78031863200006, -91.13706188034752, -70.29775056402285, -70.28653628496228, -70.55993536045551, -66.49577126856721, -67.78031863200006, -91.13706188034752, -70.29775056402285, -70.28653628496228, -70.55993536045551, -66.49577126856721, -67.78031863200006, -69.42502826618498, -71.3755619428574, -71.36010380653538, -71.77751870086291, -66.49577126856721, -67.78031863200006, -91.13706188034752, -91.13706188034752, -91.13706188034752, -91.13706188034752, -66.49577126856721, -67.78031863200006, -91.13706188034752, -91.13706188034752, -91.13706188034752, -91.13706188034752, -66.49577126856721, -67.78031863200006, -91.13706188034752, -91.13706188034752, -91.13706188034752, -91.13706188034752, -66.49577126856721, -67.78031863200006, -69.42502826618498, -71.3755619428574, -71.36010380653538, -71.77751870086291, -66.49577126856721, -67.78031863200006, -91.13706188034752, -91.13706188034752, -91.13706188034752, -91.13706188034752, -66.49577126856721, -67.78031863200006, -91.13706188034752, -91.13706188034752, -91.13706188034752, -91.13706188034752, -66.49577126856721, -67.78031863200006, -91.13706188034752, -91.13706188034752, -91.13706188034752, -91.13706188034752, -66.49577126856721, -67.78031863200006, -69.42502826618498, -71.3755619428574, -71.36010380653538, -71.77751870086291, -66.49577126856721, -67.78031863200006, -68.04008425700006, -91.13706188034752, -91.13706188034752, -91.13706188034752, -66.49577126856721, -67.78031863200006, -68.04008425700006, -91.13706188034752, -91.13706188034752, -91.13706188034752, -66.49577126856721, -67.78031863200006, -68.04008425700006, -91.13706188034752, -91.13706188034752, -91.13706188034752, -66.49577126856721, -67.78031863200006, -68.04008425700006, -70.29775056402285, -70.28653628496228, -70.55993536045551, -66.49577126856721, -91.13706188034752, -68.04008425700006, -70.29775056402285, -70.28653628496228, -70.55993536045551, -66.49577126856721, -91.13706188034752, -68.04008425700006, -70.29775056402285, -70.28653628496228, -70.55993536045551, -66.49577126856721, -69.03245014118498, -68.04008425700006, -70.29775056402285, -70.28653628496228, -70.55993536045551, -66.49577126856721, -91.13706188034752, -68.04008425700006, -71.3755619428574, -71.36010380653538, -71.77751870086291, -66.49577126856721, -91.13706188034752, -68.04008425700006, -91.13706188034752, -91.13706188034752, -91.13706188034752, -66.49577126856721, -91.13706188034752, -68.04008425700006, -91.13706188034752, -91.13706188034752, -91.13706188034752, -66.49577126856721, -69.03245014118498, -68.04008425700006, -91.13706188034752, -91.13706188034752, -91.13706188034752, -66.49577126856721, -91.13706188034752, -68.04008425700006, -71.3755619428574, -71.36010380653538, -71.77751870086291, -66.49577126856721, -67.78031863200006, -68.04008425700006, -91.13706188034752, -91.13706188034752, -91.13706188034752, -66.49577126856721, -67.78031863200006, -68.04008425700006, -91.13706188034752, -91.13706188034752, -91.13706188034752, -66.49577126856721, -67.78031863200006, -68.04008425700006, -91.13706188034752, -91.13706188034752, -91.13706188034752, -66.49577126856721, -67.78031863200006, -68.04008425700006, -71.3755619428574, -71.36010380653538, -71.77751870086291, -66.49577126856721, -91.13706188034752, -68.04008425700006, -91.13706188034752, -91.13706188034752, -91.13706188034752, -66.49577126856721, -91.13706188034752, -68.04008425700006, -91.13706188034752, -91.13706188034752, -91.13706188034752, -66.49577126856721, -69.03245014118498, -68.04008425700006, -91.13706188034752, -91.13706188034752, -91.13706188034752, -66.49577126856721, -91.13706188034752, -68.04008425700006, -70.29775056402285, -70.28653628496228, -70.55993536045551, -91.13706188034752, -66.44401011761111, -91.13706188034752, -70.29775056402285, -70.28653628496228, -70.55993536045551, -69.09227674156314, -66.44401011761111, -91.13706188034752, -70.29775056402285, -70.28653628496228, -70.55993536045551, -91.13706188034752, -66.44401011761111, -91.13706188034752, -70.29775056402285, -70.28653628496228, -70.55993536045551, -91.13706188034752, -66.44401011761111, -69.42502826618498, -70.29775056402285, -70.28653628496228, -70.55993536045551, -67.83614298401982, -66.44401011761111, -91.13706188034752, -70.29775056402285, -70.28653628496228, -70.55993536045551, -67.83614298401982, -66.44401011761111, -91.13706188034752, -70.29775056402285, -70.28653628496228, -70.55993536045551, -67.83614298401982, -66.44401011761111, -91.13706188034752, -70.29775056402285, -70.28653628496228, -70.55993536045551, -67.83614298401982, -66.44401011761111, -69.42502826618498, -70.29775056402285, -70.28653628496228, -70.55993536045551, -91.13706188034752, -66.44401011761111, -91.13706188034752, -70.29775056402285, -70.28653628496228, -70.55993536045551, -69.09227674156314, -66.44401011761111, -91.13706188034752, -70.29775056402285, -70.28653628496228, -70.55993536045551, -91.13706188034752, -66.44401011761111, -91.13706188034752, -70.29775056402285, -70.28653628496228, -70.55993536045551, -91.13706188034752, -66.44401011761111, -69.42502826618498, -70.29775056402285, -70.28653628496228, -70.55993536045551, -91.13706188034752, -66.44401011761111, -68.04008425700006, -70.29775056402285, -70.28653628496228, -70.55993536045551, -69.09227674156314, -66.44401011761111, -68.04008425700006, -70.29775056402285, -70.28653628496228, -70.55993536045551, -91.13706188034752, -66.44401011761111, -68.04008425700006, -70.29775056402285, -70.28653628496228, -70.55993536045551, -91.13706188034752, -66.44401011761111, -68.04008425700006, -70.29775056402285, -70.28653628496228, -70.55993536045551, -67.83614298401982, -66.44401011761111, -91.13706188034752, -70.29775056402285, -70.28653628496228, -70.55993536045551, -67.83614298401982, -66.44401011761111, -91.13706188034752, -70.29775056402285, -70.28653628496228, -70.55993536045551, -67.83614298401982, -66.44401011761111, -91.13706188034752, -70.29775056402285, -70.28653628496228, -70.55993536045551, -67.83614298401982, -66.44401011761111, -69.42502826618498, -71.3755619428574, -71.36010380653538, -71.77751870086291, -67.83614298401982, -66.44401011761111, -91.13706188034752, -91.13706188034752, -91.13706188034752, -91.13706188034752, -67.83614298401982, -66.44401011761111, -91.13706188034752, -91.13706188034752, -91.13706188034752, -91.13706188034752, -67.83614298401982, -66.44401011761111, -91.13706188034752, -91.13706188034752, -91.13706188034752, -91.13706188034752, -67.83614298401982, -66.44401011761111, -69.42502826618498, -71.3755619428574, -71.36010380653538, -71.77751870086291, -67.83614298401982, -66.44401011761111, -91.13706188034752, -91.13706188034752, -91.13706188034752, -91.13706188034752, -67.83614298401982, -66.44401011761111, -91.13706188034752, -91.13706188034752, -91.13706188034752, -91.13706188034752, -67.83614298401982, -66.44401011761111, -91.13706188034752, -91.13706188034752, -91.13706188034752, -91.13706188034752, -67.83614298401982, -66.44401011761111, -69.42502826618498, -71.3755619428574, -71.36010380653538, -71.77751870086291, -67.83614298401982, -66.44401011761111, -68.04008425700006, -91.13706188034752, -91.13706188034752, -91.13706188034752, -67.83614298401982, -66.44401011761111, -68.04008425700006, -91.13706188034752, -91.13706188034752, -91.13706188034752, -67.83614298401982, -66.44401011761111, -68.04008425700006, -91.13706188034752, -91.13706188034752, -91.13706188034752, -67.83614298401982, -66.44401011761111, -68.04008425700006, -70.29775056402285, -70.28653628496228, -70.55993536045551, -91.13706188034752, -66.44401011761111, -91.13706188034752, -70.29775056402285, -70.28653628496228, -70.55993536045551, -69.09227674156314, -66.44401011761111, -91.13706188034752, -70.29775056402285, -70.28653628496228, -70.55993536045551, -91.13706188034752, -66.44401011761111, -91.13706188034752, -70.29775056402285, -70.28653628496228, -70.55993536045551, -91.13706188034752, -66.44401011761111, -69.42502826618498, -71.3755619428574, -71.36010380653538, -71.77751870086291, -67.83614298401982, -66.44401011761111, -91.13706188034752, -91.13706188034752, -91.13706188034752, -91.13706188034752, -67.83614298401982, -66.44401011761111, -91.13706188034752, -91.13706188034752, -91.13706188034752, -91.13706188034752, -67.83614298401982, -66.44401011761111, -91.13706188034752, -91.13706188034752, -91.13706188034752, -91.13706188034752, -67.83614298401982, -66.44401011761111, -69.42502826618498, -71.3755619428574, -71.36010380653538, -71.77751870086291, -91.13706188034752, -66.44401011761111, -91.13706188034752, -91.13706188034752, -91.13706188034752, -91.13706188034752, -69.09227674156314, -66.44401011761111, -91.13706188034752, -91.13706188034752, -91.13706188034752, -91.13706188034752, -91.13706188034752, -66.44401011761111, -91.13706188034752, -91.13706188034752, -91.13706188034752, -91.13706188034752, -91.13706188034752, -66.44401011761111, -69.42502826618498, -71.3755619428574, -71.36010380653538, -71.77751870086291, -91.13706188034752, -66.44401011761111, -68.04008425700006, -91.13706188034752, -91.13706188034752, -91.13706188034752, -69.09227674156314, -66.44401011761111, -68.04008425700006, -91.13706188034752, -91.13706188034752, -91.13706188034752, -91.13706188034752, -66.44401011761111, -68.04008425700006, -91.13706188034752, -91.13706188034752, -91.13706188034752, -91.13706188034752, -66.44401011761111, -68.04008425700006, -70.29775056402285, -70.28653628496228, -70.55993536045551, -91.13706188034752, -66.44401011761111, -68.04008425700006, -70.29775056402285, -70.28653628496228, -70.55993536045551, -69.09227674156314, -66.44401011761111, -68.04008425700006, -70.29775056402285, -70.28653628496228, -70.55993536045551, -91.13706188034752, -66.44401011761111, -68.04008425700006, -70.29775056402285, -70.28653628496228, -70.55993536045551, -91.13706188034752, -66.44401011761111, -68.04008425700006, -71.3755619428574, -71.36010380653538, -71.77751870086291, -67.83614298401982, -66.44401011761111, -68.04008425700006, -91.13706188034752, -91.13706188034752, -91.13706188034752, -67.83614298401982, -66.44401011761111, -68.04008425700006, -91.13706188034752, -91.13706188034752, -91.13706188034752, -67.83614298401982, -66.44401011761111, -68.04008425700006, -91.13706188034752, -91.13706188034752, -91.13706188034752, -67.83614298401982, -66.44401011761111, -68.04008425700006, -71.3755619428574, -71.36010380653538, -71.77751870086291, -91.13706188034752, -66.44401011761111, -68.04008425700006, -91.13706188034752, -91.13706188034752, -91.13706188034752, -69.09227674156314, -66.44401011761111, -68.04008425700006, -91.13706188034752, -91.13706188034752, -91.13706188034752, -91.13706188034752, -66.44401011761111, -68.04008425700006, -91.13706188034752, -91.13706188034752, -91.13706188034752, -91.13706188034752, -66.44401011761111, -68.04008425700006, -71.3755619428574, -71.36010380653538, -71.77751870086291, -91.13706188034752, -66.44401011761111, -68.04008425700006, -91.13706188034752, -91.13706188034752, -91.13706188034752, -69.09227674156314, -66.44401011761111, -68.04008425700006, -91.13706188034752, -91.13706188034752, -91.13706188034752, -91.13706188034752, -66.44401011761111, -68.04008425700006, -91.13706188034752, -91.13706188034752, -91.13706188034752, -91.13706188034752, -66.44401011761111, -68.04008425700006, -70.29775056402285, -70.28653628496228, -70.55993536045551, -91.13706188034752, -91.13706188034752, -66.57389293011111, -70.29775056402285, -70.28653628496228, -70.55993536045551, -69.09227674156314, -91.13706188034752, -66.57389293011111, -70.29775056402285, -70.28653628496228, -70.55993536045551, -91.13706188034752, -69.03245014118498, -66.57389293011111, -70.29775056402285, -70.28653628496228, -70.55993536045551, -91.13706188034752, -91.13706188034752, -66.57389293011111, -70.29775056402285, -70.28653628496228, -70.55993536045551, -67.83614298401982, -91.13706188034752, -66.57389293011111, -70.29775056402285, -70.28653628496228, -70.55993536045551, -67.83614298401982, -91.13706188034752, -66.57389293011111, -70.29775056402285, -70.28653628496228, -70.55993536045551, -67.83614298401982, -69.03245014118498, -66.57389293011111, -70.29775056402285, -70.28653628496228, -70.55993536045551, -67.83614298401982, -91.13706188034752, -66.57389293011111, -70.29775056402285, -70.28653628496228, -70.55993536045551, -91.13706188034752, -67.78031863200006, -66.57389293011111, -70.29775056402285, -70.28653628496228, -70.55993536045551, -69.09227674156314, -67.78031863200006, -66.57389293011111, -70.29775056402285, -70.28653628496228, -70.55993536045551, -91.13706188034752, -67.78031863200006, -66.57389293011111, -70.29775056402285, -70.28653628496228, -70.55993536045551, -91.13706188034752, -67.78031863200006, -66.57389293011111, -70.29775056402285, -70.28653628496228, -70.55993536045551, -91.13706188034752, -91.13706188034752, -66.57389293011111, -70.29775056402285, -70.28653628496228, -70.55993536045551, -69.09227674156314, -91.13706188034752, -66.57389293011111, -70.29775056402285, -70.28653628496228, -70.55993536045551, -91.13706188034752, -69.03245014118498, -66.57389293011111, -70.29775056402285, -70.28653628496228, -70.55993536045551, -91.13706188034752, -91.13706188034752, -66.57389293011111, -70.29775056402285, -70.28653628496228, -70.55993536045551, -67.83614298401982, -91.13706188034752, -66.57389293011111, -70.29775056402285, -70.28653628496228, -70.55993536045551, -67.83614298401982, -91.13706188034752, -66.57389293011111, -70.29775056402285, -70.28653628496228, -70.55993536045551, -67.83614298401982, -69.03245014118498, -66.57389293011111, -70.29775056402285, -70.28653628496228, -70.55993536045551, -67.83614298401982, -91.13706188034752, -66.57389293011111, -71.3755619428574, -71.36010380653538, -71.77751870086291, -67.83614298401982, -91.13706188034752, -66.57389293011111, -91.13706188034752, -91.13706188034752, -91.13706188034752, -67.83614298401982, -91.13706188034752, -66.57389293011111, -91.13706188034752, -91.13706188034752, -91.13706188034752, -67.83614298401982, -69.03245014118498, -66.57389293011111, -91.13706188034752, -91.13706188034752, -91.13706188034752, -67.83614298401982, -91.13706188034752, -66.57389293011111, -71.3755619428574, -71.36010380653538, -71.77751870086291, -67.83614298401982, -67.78031863200006, -66.57389293011111, -91.13706188034752, -91.13706188034752, -91.13706188034752, -67.83614298401982, -67.78031863200006, -66.57389293011111, -91.13706188034752, -91.13706188034752, -91.13706188034752, -67.83614298401982, -67.78031863200006, -66.57389293011111, -91.13706188034752, -91.13706188034752, -91.13706188034752, -67.83614298401982, -67.78031863200006, -66.57389293011111, -71.3755619428574, -71.36010380653538, -71.77751870086291, -67.83614298401982, -91.13706188034752, -66.57389293011111, -91.13706188034752, -91.13706188034752, -91.13706188034752, -67.83614298401982, -91.13706188034752, -66.57389293011111, -91.13706188034752, -91.13706188034752, -91.13706188034752, -67.83614298401982, -69.03245014118498, -66.57389293011111, -91.13706188034752, -91.13706188034752, -91.13706188034752, -67.83614298401982, -91.13706188034752, -66.57389293011111, -70.29775056402285, -70.28653628496228, -70.55993536045551, -91.13706188034752, -67.78031863200006, -66.57389293011111, -70.29775056402285, -70.28653628496228, -70.55993536045551, -69.09227674156314, -67.78031863200006, -66.57389293011111, -70.29775056402285, -70.28653628496228, -70.55993536045551, -91.13706188034752, -67.78031863200006, -66.57389293011111, -70.29775056402285, -70.28653628496228, -70.55993536045551, -91.13706188034752, -67.78031863200006, -66.57389293011111, -71.3755619428574, -71.36010380653538, -71.77751870086291, -67.83614298401982, -67.78031863200006, -66.57389293011111, -91.13706188034752, -91.13706188034752, -91.13706188034752, -67.83614298401982, -67.78031863200006, -66.57389293011111, -91.13706188034752, -91.13706188034752, -91.13706188034752, -67.83614298401982, -67.78031863200006, -66.57389293011111, -91.13706188034752, -91.13706188034752, -91.13706188034752, -67.83614298401982, -67.78031863200006, -66.57389293011111, -71.3755619428574, -71.36010380653538, -71.77751870086291, -91.13706188034752, -67.78031863200006, -66.57389293011111, -91.13706188034752, -91.13706188034752, -91.13706188034752, -69.09227674156314, -67.78031863200006, -66.57389293011111, -91.13706188034752, -91.13706188034752, -91.13706188034752, -91.13706188034752, -67.78031863200006, -66.57389293011111, -91.13706188034752, -91.13706188034752, -91.13706188034752, -91.13706188034752, -67.78031863200006, -66.57389293011111, -71.3755619428574, -71.36010380653538, -71.77751870086291, -91.13706188034752, -67.78031863200006, -66.57389293011111, -91.13706188034752, -91.13706188034752, -91.13706188034752, -69.09227674156314, -67.78031863200006, -66.57389293011111, -91.13706188034752, -91.13706188034752, -91.13706188034752, -91.13706188034752, -67.78031863200006, -66.57389293011111, -91.13706188034752, -91.13706188034752, -91.13706188034752, -91.13706188034752, -67.78031863200006, -66.57389293011111, -70.29775056402285, -70.28653628496228, -70.55993536045551, -91.13706188034752, -91.13706188034752, -66.57389293011111, -70.29775056402285, -70.28653628496228, -70.55993536045551, -69.09227674156314, -91.13706188034752, -66.57389293011111, -70.29775056402285, -70.28653628496228, -70.55993536045551, -91.13706188034752, -69.03245014118498, -66.57389293011111, -70.29775056402285, -70.28653628496228, -70.55993536045551, -91.13706188034752, -91.13706188034752, -66.57389293011111, -71.3755619428574, -71.36010380653538, -71.77751870086291, -67.83614298401982, -91.13706188034752, -66.57389293011111, -91.13706188034752, -91.13706188034752, -91.13706188034752, -67.83614298401982, -91.13706188034752, -66.57389293011111, -91.13706188034752, -91.13706188034752, -91.13706188034752, -67.83614298401982, -69.03245014118498, -66.57389293011111, -91.13706188034752, -91.13706188034752, -91.13706188034752, -67.83614298401982, -91.13706188034752, -66.57389293011111, -71.3755619428574, -71.36010380653538, -71.77751870086291, -91.13706188034752, -67.78031863200006, -66.57389293011111, -91.13706188034752, -91.13706188034752, -91.13706188034752, -69.09227674156314, -67.78031863200006, -66.57389293011111, -91.13706188034752, -91.13706188034752, -91.13706188034752, -91.13706188034752, -67.78031863200006, -66.57389293011111, -91.13706188034752, -91.13706188034752, -91.13706188034752, -91.13706188034752, -67.78031863200006, -66.57389293011111, -71.3755619428574, -71.36010380653538, -71.77751870086291, -91.13706188034752, -91.13706188034752, -66.57389293011111, -91.13706188034752, -91.13706188034752, -91.13706188034752, -69.09227674156314, -91.13706188034752, -66.57389293011111, -91.13706188034752, -91.13706188034752, -91.13706188034752, -91.13706188034752, -69.03245014118498, -66.57389293011111, -91.13706188034752, -91.13706188034752, -91.13706188034752, -91.13706188034752, -91.13706188034752, -66.57389293011111)\n",
            "23\n"
          ],
          "name": "stdout"
        }
      ]
    },
    {
      "cell_type": "code",
      "metadata": {
        "id": "mWnvEED3dv5C"
      },
      "source": [
        "def get_greedy_index(warehouse_state, action):\n",
        "  if action.operation_type == OperationType.STORE:\n",
        "    return warehouse_state.index(None)\n",
        "  elif action.operation_type == OperationType.RESTORE:\n",
        "    return warehouse_state.index(action.item_type)\n",
        "  else:\n",
        "    raise ValueError"
      ],
      "execution_count": 34,
      "outputs": []
    },
    {
      "cell_type": "code",
      "metadata": {
        "id": "T8Zq0sLGdv5C"
      },
      "source": [
        "def run_evaluation(dataset, states_space, policy):\n",
        "    warehouse_state = [None] * WAREHOUSE_SIZE\n",
        "    total_manhattan_distance = 0\n",
        "    for action in dataset:\n",
        "        position = -1\n",
        "        if policy == 'greedy':\n",
        "            position = get_greedy_index(warehouse_state, action)\n",
        "        else:\n",
        "            index = states_space.index((tuple(warehouse_state), action))\n",
        "            position = policy[index]\n",
        "        \n",
        "        total_manhattan_distance += Warehouse.calculate_distance(position, WAREHOUSE_LAYOUT)\n",
        "        warehouse_state = Warehouse.apply_at_to(action, position, warehouse_state)\n",
        "    return total_manhattan_distance"
      ],
      "execution_count": 35,
      "outputs": []
    },
    {
      "cell_type": "markdown",
      "metadata": {
        "id": "Ul8hmPrzNz2l"
      },
      "source": [
        "## Evaluation on the training set"
      ]
    },
    {
      "cell_type": "code",
      "metadata": {
        "id": "0Imqt5H42-mn",
        "outputId": "148bcbb7-6a4a-4854-89ab-8cd97f32ee96",
        "colab": {
          "base_uri": "https://localhost:8080/"
        }
      },
      "source": [
        "total_distance_policy_iteration = run_evaluation(train_dataset,\n",
        "                                                 state_space,\n",
        "                                                 policy_iteration_result.policy)\n",
        "\n",
        "total_distance_value_iteration = run_evaluation(train_dataset,\n",
        "                                                state_space,\n",
        "                                                value_iteration_result.policy)\n",
        "\n",
        "total_distance_greedy_selection = run_evaluation(train_dataset,\n",
        "                                                state_space,\n",
        "                                                'greedy')\n",
        "\n",
        "\n",
        "print(total_distance_policy_iteration)\n",
        "print(total_distance_value_iteration)\n",
        "print(total_distance_greedy_selection)"
      ],
      "execution_count": 36,
      "outputs": [
        {
          "output_type": "stream",
          "text": [
            "14401\n",
            "14401\n",
            "14401\n"
          ],
          "name": "stdout"
        }
      ]
    },
    {
      "cell_type": "code",
      "metadata": {
        "id": "AydmxW5F3eNA"
      },
      "source": [
        ""
      ],
      "execution_count": 30,
      "outputs": []
    },
    {
      "cell_type": "markdown",
      "metadata": {
        "id": "3JnTXTj5NtMk"
      },
      "source": [
        "## Evaluation on the testset "
      ]
    },
    {
      "cell_type": "code",
      "metadata": {
        "id": "Aeqdq8929PEr"
      },
      "source": [
        "test_dataset = WarehouseDataSet(TEST_DATASET_PATH)"
      ],
      "execution_count": 31,
      "outputs": []
    },
    {
      "cell_type": "code",
      "metadata": {
        "id": "7154PJ3xJuuF",
        "outputId": "3fbf22e0-2ba7-407d-8164-f50006346e61",
        "colab": {
          "base_uri": "https://localhost:8080/"
        }
      },
      "source": [
        "total_distance_policy_iteration = run_evaluation(test_dataset,\n",
        "                                                 state_space,\n",
        "                                                 policy_iteration_result.policy)\n",
        "\n",
        "total_distance_value_iteration = run_evaluation(test_dataset,\n",
        "                                                state_space,\n",
        "                                                value_iteration_result.policy)\n",
        "total_distance_greedy_selection = run_evaluation(test_dataset,\n",
        "                                                state_space,\n",
        "                                                'greedy')\n",
        "print(total_distance_policy_iteration)\n",
        "print(total_distance_value_iteration)\n",
        "print(total_distance_greedy_selection)"
      ],
      "execution_count": 38,
      "outputs": [
        {
          "output_type": "stream",
          "text": [
            "114\n",
            "114\n",
            "114\n"
          ],
          "name": "stdout"
        }
      ]
    },
    {
      "cell_type": "code",
      "metadata": {
        "id": "N5MmS223KLVN"
      },
      "source": [
        ""
      ],
      "execution_count": null,
      "outputs": []
    }
  ]
}